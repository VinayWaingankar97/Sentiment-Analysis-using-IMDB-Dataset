{
 "cells": [
  {
   "cell_type": "markdown",
   "id": "efc8657b",
   "metadata": {},
   "source": [
    "# Problem Statement"
   ]
  },
  {
   "cell_type": "markdown",
   "id": "6bd9d30b",
   "metadata": {},
   "source": [
    "Task: Give the candidate a dataset of political speeches or text excerpts along with corresponding labels (e.g., positive/negative sentiment). \n",
    "\n",
    "Ask them to:\n",
    "\n",
    "1.Build a machine learning model (e.g., NLP-based) to classify the sentiment of text data.\n",
    "2.Train and evaluate the model using appropriate metrics.\n",
    "3.Discuss the choice of algorithms and feature engineering techniques"
   ]
  },
  {
   "cell_type": "code",
   "execution_count": 1,
   "id": "25da92fc",
   "metadata": {},
   "outputs": [
    {
     "name": "stderr",
     "output_type": "stream",
     "text": [
      "[nltk_data] Downloading collection 'popular'\n",
      "[nltk_data]    | \n",
      "[nltk_data]    | Downloading package cmudict to\n",
      "[nltk_data]    |     C:\\Users\\Admin\\AppData\\Roaming\\nltk_data...\n",
      "[nltk_data]    |   Package cmudict is already up-to-date!\n",
      "[nltk_data]    | Downloading package gazetteers to\n",
      "[nltk_data]    |     C:\\Users\\Admin\\AppData\\Roaming\\nltk_data...\n",
      "[nltk_data]    |   Package gazetteers is already up-to-date!\n",
      "[nltk_data]    | Downloading package genesis to\n",
      "[nltk_data]    |     C:\\Users\\Admin\\AppData\\Roaming\\nltk_data...\n",
      "[nltk_data]    |   Package genesis is already up-to-date!\n",
      "[nltk_data]    | Downloading package gutenberg to\n",
      "[nltk_data]    |     C:\\Users\\Admin\\AppData\\Roaming\\nltk_data...\n",
      "[nltk_data]    |   Package gutenberg is already up-to-date!\n",
      "[nltk_data]    | Downloading package inaugural to\n",
      "[nltk_data]    |     C:\\Users\\Admin\\AppData\\Roaming\\nltk_data...\n",
      "[nltk_data]    |   Package inaugural is already up-to-date!\n",
      "[nltk_data]    | Downloading package movie_reviews to\n",
      "[nltk_data]    |     C:\\Users\\Admin\\AppData\\Roaming\\nltk_data...\n",
      "[nltk_data]    |   Package movie_reviews is already up-to-date!\n",
      "[nltk_data]    | Downloading package names to\n",
      "[nltk_data]    |     C:\\Users\\Admin\\AppData\\Roaming\\nltk_data...\n",
      "[nltk_data]    |   Package names is already up-to-date!\n",
      "[nltk_data]    | Downloading package shakespeare to\n",
      "[nltk_data]    |     C:\\Users\\Admin\\AppData\\Roaming\\nltk_data...\n",
      "[nltk_data]    |   Package shakespeare is already up-to-date!\n",
      "[nltk_data]    | Downloading package stopwords to\n",
      "[nltk_data]    |     C:\\Users\\Admin\\AppData\\Roaming\\nltk_data...\n",
      "[nltk_data]    |   Package stopwords is already up-to-date!\n",
      "[nltk_data]    | Downloading package treebank to\n",
      "[nltk_data]    |     C:\\Users\\Admin\\AppData\\Roaming\\nltk_data...\n",
      "[nltk_data]    |   Package treebank is already up-to-date!\n",
      "[nltk_data]    | Downloading package twitter_samples to\n",
      "[nltk_data]    |     C:\\Users\\Admin\\AppData\\Roaming\\nltk_data...\n",
      "[nltk_data]    |   Package twitter_samples is already up-to-date!\n",
      "[nltk_data]    | Downloading package omw to\n",
      "[nltk_data]    |     C:\\Users\\Admin\\AppData\\Roaming\\nltk_data...\n",
      "[nltk_data]    |   Package omw is already up-to-date!\n",
      "[nltk_data]    | Downloading package omw-1.4 to\n",
      "[nltk_data]    |     C:\\Users\\Admin\\AppData\\Roaming\\nltk_data...\n",
      "[nltk_data]    |   Package omw-1.4 is already up-to-date!\n",
      "[nltk_data]    | Downloading package wordnet to\n",
      "[nltk_data]    |     C:\\Users\\Admin\\AppData\\Roaming\\nltk_data...\n",
      "[nltk_data]    |   Package wordnet is already up-to-date!\n",
      "[nltk_data]    | Downloading package wordnet2021 to\n",
      "[nltk_data]    |     C:\\Users\\Admin\\AppData\\Roaming\\nltk_data...\n",
      "[nltk_data]    |   Package wordnet2021 is already up-to-date!\n",
      "[nltk_data]    | Downloading package wordnet31 to\n",
      "[nltk_data]    |     C:\\Users\\Admin\\AppData\\Roaming\\nltk_data...\n",
      "[nltk_data]    |   Package wordnet31 is already up-to-date!\n",
      "[nltk_data]    | Downloading package wordnet_ic to\n",
      "[nltk_data]    |     C:\\Users\\Admin\\AppData\\Roaming\\nltk_data...\n",
      "[nltk_data]    |   Package wordnet_ic is already up-to-date!\n",
      "[nltk_data]    | Downloading package words to\n",
      "[nltk_data]    |     C:\\Users\\Admin\\AppData\\Roaming\\nltk_data...\n",
      "[nltk_data]    |   Package words is already up-to-date!\n",
      "[nltk_data]    | Downloading package maxent_ne_chunker to\n",
      "[nltk_data]    |     C:\\Users\\Admin\\AppData\\Roaming\\nltk_data...\n",
      "[nltk_data]    |   Package maxent_ne_chunker is already up-to-date!\n",
      "[nltk_data]    | Downloading package punkt to\n",
      "[nltk_data]    |     C:\\Users\\Admin\\AppData\\Roaming\\nltk_data...\n",
      "[nltk_data]    |   Package punkt is already up-to-date!\n",
      "[nltk_data]    | Downloading package snowball_data to\n",
      "[nltk_data]    |     C:\\Users\\Admin\\AppData\\Roaming\\nltk_data...\n",
      "[nltk_data]    |   Package snowball_data is already up-to-date!\n",
      "[nltk_data]    | Downloading package averaged_perceptron_tagger to\n",
      "[nltk_data]    |     C:\\Users\\Admin\\AppData\\Roaming\\nltk_data...\n",
      "[nltk_data]    |   Package averaged_perceptron_tagger is already up-\n",
      "[nltk_data]    |       to-date!\n",
      "[nltk_data]    | \n",
      "[nltk_data]  Done downloading collection popular\n"
     ]
    },
    {
     "data": {
      "text/plain": [
       "True"
      ]
     },
     "execution_count": 1,
     "metadata": {},
     "output_type": "execute_result"
    }
   ],
   "source": [
    "import pandas as pd\n",
    "import nltk\n",
    "\n",
    "nltk.download(\"popular\")"
   ]
  },
  {
   "cell_type": "code",
   "execution_count": 2,
   "id": "2a64319c",
   "metadata": {},
   "outputs": [
    {
     "name": "stderr",
     "output_type": "stream",
     "text": [
      "[nltk_data] Downloading package punkt to\n",
      "[nltk_data]     C:\\Users\\Admin\\AppData\\Roaming\\nltk_data...\n",
      "[nltk_data]   Package punkt is already up-to-date!\n"
     ]
    },
    {
     "data": {
      "text/plain": [
       "True"
      ]
     },
     "execution_count": 2,
     "metadata": {},
     "output_type": "execute_result"
    }
   ],
   "source": [
    "nltk.download('punkt')"
   ]
  },
  {
   "cell_type": "code",
   "execution_count": 3,
   "id": "dd78cc92",
   "metadata": {},
   "outputs": [
    {
     "name": "stdout",
     "output_type": "stream",
     "text": [
      "Requirement already satisfied: spacy in c:\\users\\admin\\anaconda3\\lib\\site-packages (3.7.2)\n",
      "Requirement already satisfied: preshed<3.1.0,>=3.0.2 in c:\\users\\admin\\anaconda3\\lib\\site-packages (from spacy) (3.0.9)\n",
      "Requirement already satisfied: srsly<3.0.0,>=2.4.3 in c:\\users\\admin\\anaconda3\\lib\\site-packages (from spacy) (2.4.8)\n",
      "Requirement already satisfied: spacy-loggers<2.0.0,>=1.0.0 in c:\\users\\admin\\anaconda3\\lib\\site-packages (from spacy) (1.0.5)\n",
      "Requirement already satisfied: murmurhash<1.1.0,>=0.28.0 in c:\\users\\admin\\anaconda3\\lib\\site-packages (from spacy) (1.0.10)\n",
      "Requirement already satisfied: jinja2 in c:\\users\\admin\\anaconda3\\lib\\site-packages (from spacy) (2.11.3)\n",
      "Requirement already satisfied: catalogue<2.1.0,>=2.0.6 in c:\\users\\admin\\anaconda3\\lib\\site-packages (from spacy) (2.0.10)\n",
      "Requirement already satisfied: wasabi<1.2.0,>=0.9.1 in c:\\users\\admin\\anaconda3\\lib\\site-packages (from spacy) (1.1.2)\n",
      "Requirement already satisfied: packaging>=20.0 in c:\\users\\admin\\anaconda3\\lib\\site-packages (from spacy) (21.3)\n",
      "Requirement already satisfied: thinc<8.3.0,>=8.1.8 in c:\\users\\admin\\anaconda3\\lib\\site-packages (from spacy) (8.2.1)\n",
      "Requirement already satisfied: weasel<0.4.0,>=0.1.0 in c:\\users\\admin\\anaconda3\\lib\\site-packages (from spacy) (0.3.3)\n",
      "Requirement already satisfied: spacy-legacy<3.1.0,>=3.0.11 in c:\\users\\admin\\anaconda3\\lib\\site-packages (from spacy) (3.0.12)\n",
      "Requirement already satisfied: requests<3.0.0,>=2.13.0 in c:\\users\\admin\\anaconda3\\lib\\site-packages (from spacy) (2.27.1)\n",
      "Requirement already satisfied: cymem<2.1.0,>=2.0.2 in c:\\users\\admin\\anaconda3\\lib\\site-packages (from spacy) (2.0.8)\n",
      "Requirement already satisfied: numpy>=1.19.0 in c:\\users\\admin\\anaconda3\\lib\\site-packages (from spacy) (1.21.5)\n",
      "Requirement already satisfied: typer<0.10.0,>=0.3.0 in c:\\users\\admin\\anaconda3\\lib\\site-packages (from spacy) (0.9.0)\n",
      "Requirement already satisfied: setuptools in c:\\users\\admin\\anaconda3\\lib\\site-packages (from spacy) (61.2.0)\n",
      "Requirement already satisfied: tqdm<5.0.0,>=4.38.0 in c:\\users\\admin\\anaconda3\\lib\\site-packages (from spacy) (4.64.0)\n",
      "Requirement already satisfied: smart-open<7.0.0,>=5.2.1 in c:\\users\\admin\\anaconda3\\lib\\site-packages (from spacy) (6.4.0)\n",
      "Requirement already satisfied: langcodes<4.0.0,>=3.2.0 in c:\\users\\admin\\anaconda3\\lib\\site-packages (from spacy) (3.3.0)\n",
      "Requirement already satisfied: pydantic!=1.8,!=1.8.1,<3.0.0,>=1.7.4 in c:\\users\\admin\\anaconda3\\lib\\site-packages (from spacy) (1.10.12)\n",
      "Requirement already satisfied: pyparsing!=3.0.5,>=2.0.2 in c:\\users\\admin\\anaconda3\\lib\\site-packages (from packaging>=20.0->spacy) (3.0.4)\n",
      "Requirement already satisfied: typing-extensions>=4.2.0 in c:\\users\\admin\\anaconda3\\lib\\site-packages (from pydantic!=1.8,!=1.8.1,<3.0.0,>=1.7.4->spacy) (4.7.1)\n",
      "Requirement already satisfied: certifi>=2017.4.17 in c:\\users\\admin\\anaconda3\\lib\\site-packages (from requests<3.0.0,>=2.13.0->spacy) (2023.7.22)\n",
      "Requirement already satisfied: urllib3<1.27,>=1.21.1 in c:\\users\\admin\\anaconda3\\lib\\site-packages (from requests<3.0.0,>=2.13.0->spacy) (1.26.9)\n",
      "Requirement already satisfied: charset-normalizer~=2.0.0 in c:\\users\\admin\\anaconda3\\lib\\site-packages (from requests<3.0.0,>=2.13.0->spacy) (2.0.4)\n",
      "Requirement already satisfied: idna<4,>=2.5 in c:\\users\\admin\\anaconda3\\lib\\site-packages (from requests<3.0.0,>=2.13.0->spacy) (3.3)\n",
      "Requirement already satisfied: blis<0.8.0,>=0.7.8 in c:\\users\\admin\\anaconda3\\lib\\site-packages (from thinc<8.3.0,>=8.1.8->spacy) (0.7.11)\n",
      "Requirement already satisfied: confection<1.0.0,>=0.0.1 in c:\\users\\admin\\anaconda3\\lib\\site-packages (from thinc<8.3.0,>=8.1.8->spacy) (0.1.3)\n",
      "Requirement already satisfied: colorama in c:\\users\\admin\\anaconda3\\lib\\site-packages (from tqdm<5.0.0,>=4.38.0->spacy) (0.4.6)\n",
      "Requirement already satisfied: click<9.0.0,>=7.1.1 in c:\\users\\admin\\anaconda3\\lib\\site-packages (from typer<0.10.0,>=0.3.0->spacy) (8.0.4)\n",
      "Requirement already satisfied: cloudpathlib<0.17.0,>=0.7.0 in c:\\users\\admin\\anaconda3\\lib\\site-packages (from weasel<0.4.0,>=0.1.0->spacy) (0.16.0)\n",
      "Requirement already satisfied: MarkupSafe>=0.23 in c:\\users\\admin\\anaconda3\\lib\\site-packages (from jinja2->spacy) (2.0.1)\n"
     ]
    }
   ],
   "source": [
    "import numpy as np\n",
    "!pip install spacy "
   ]
  },
  {
   "cell_type": "code",
   "execution_count": 4,
   "id": "43efe136",
   "metadata": {},
   "outputs": [],
   "source": [
    "import  spacy\n",
    "from spacy.lang.en.stop_words import STOP_WORDS as stopwords"
   ]
  },
  {
   "cell_type": "code",
   "execution_count": 5,
   "id": "33772b43",
   "metadata": {},
   "outputs": [
    {
     "data": {
      "text/html": [
       "<div>\n",
       "<style scoped>\n",
       "    .dataframe tbody tr th:only-of-type {\n",
       "        vertical-align: middle;\n",
       "    }\n",
       "\n",
       "    .dataframe tbody tr th {\n",
       "        vertical-align: top;\n",
       "    }\n",
       "\n",
       "    .dataframe thead th {\n",
       "        text-align: right;\n",
       "    }\n",
       "</style>\n",
       "<table border=\"1\" class=\"dataframe\">\n",
       "  <thead>\n",
       "    <tr style=\"text-align: right;\">\n",
       "      <th></th>\n",
       "      <th>review</th>\n",
       "      <th>sentiment</th>\n",
       "    </tr>\n",
       "  </thead>\n",
       "  <tbody>\n",
       "    <tr>\n",
       "      <th>0</th>\n",
       "      <td>One of the other reviewers has mentioned that ...</td>\n",
       "      <td>positive</td>\n",
       "    </tr>\n",
       "    <tr>\n",
       "      <th>1</th>\n",
       "      <td>A wonderful little production. &lt;br /&gt;&lt;br /&gt;The...</td>\n",
       "      <td>positive</td>\n",
       "    </tr>\n",
       "    <tr>\n",
       "      <th>2</th>\n",
       "      <td>I thought this was a wonderful way to spend ti...</td>\n",
       "      <td>positive</td>\n",
       "    </tr>\n",
       "    <tr>\n",
       "      <th>3</th>\n",
       "      <td>Basically there's a family where a little boy ...</td>\n",
       "      <td>negative</td>\n",
       "    </tr>\n",
       "    <tr>\n",
       "      <th>4</th>\n",
       "      <td>Petter Mattei's \"Love in the Time of Money\" is...</td>\n",
       "      <td>positive</td>\n",
       "    </tr>\n",
       "  </tbody>\n",
       "</table>\n",
       "</div>"
      ],
      "text/plain": [
       "                                              review sentiment\n",
       "0  One of the other reviewers has mentioned that ...  positive\n",
       "1  A wonderful little production. <br /><br />The...  positive\n",
       "2  I thought this was a wonderful way to spend ti...  positive\n",
       "3  Basically there's a family where a little boy ...  negative\n",
       "4  Petter Mattei's \"Love in the Time of Money\" is...  positive"
      ]
     },
     "execution_count": 5,
     "metadata": {},
     "output_type": "execute_result"
    }
   ],
   "source": [
    "df = pd.read_csv('C:/Users/Admin/Desktop/ML Deployment/3. Natural Language Processing/Projects/IMDB Kaggle/IMDBSentimentalAnalysis-main/IMDB_Dataset.csv');\n",
    "df.head()"
   ]
  },
  {
   "cell_type": "code",
   "execution_count": 6,
   "id": "d0dba38d",
   "metadata": {},
   "outputs": [
    {
     "data": {
      "text/plain": [
       "(50000, 2)"
      ]
     },
     "execution_count": 6,
     "metadata": {},
     "output_type": "execute_result"
    }
   ],
   "source": [
    "df.shape"
   ]
  },
  {
   "cell_type": "code",
   "execution_count": 7,
   "id": "779b1fe6",
   "metadata": {},
   "outputs": [
    {
     "data": {
      "text/plain": [
       "array(['positive', 'negative'], dtype=object)"
      ]
     },
     "execution_count": 7,
     "metadata": {},
     "output_type": "execute_result"
    }
   ],
   "source": [
    "df[\"sentiment\"].unique()"
   ]
  },
  {
   "cell_type": "code",
   "execution_count": 8,
   "id": "2832283e",
   "metadata": {},
   "outputs": [
    {
     "data": {
      "text/plain": [
       "positive    25000\n",
       "negative    25000\n",
       "Name: sentiment, dtype: int64"
      ]
     },
     "execution_count": 8,
     "metadata": {},
     "output_type": "execute_result"
    }
   ],
   "source": [
    "df[\"sentiment\"].value_counts()"
   ]
  },
  {
   "cell_type": "code",
   "execution_count": 9,
   "id": "4f0ba8f3",
   "metadata": {},
   "outputs": [
    {
     "name": "stdout",
     "output_type": "stream",
     "text": [
      "<class 'pandas.core.frame.DataFrame'>\n",
      "RangeIndex: 50000 entries, 0 to 49999\n",
      "Data columns (total 2 columns):\n",
      " #   Column     Non-Null Count  Dtype \n",
      "---  ------     --------------  ----- \n",
      " 0   review     50000 non-null  object\n",
      " 1   sentiment  50000 non-null  object\n",
      "dtypes: object(2)\n",
      "memory usage: 781.4+ KB\n"
     ]
    }
   ],
   "source": [
    "df.info()"
   ]
  },
  {
   "cell_type": "code",
   "execution_count": 10,
   "id": "1f484dd8",
   "metadata": {},
   "outputs": [
    {
     "data": {
      "text/plain": [
       "review       0\n",
       "sentiment    0\n",
       "dtype: int64"
      ]
     },
     "execution_count": 10,
     "metadata": {},
     "output_type": "execute_result"
    }
   ],
   "source": [
    "df.isnull().sum()"
   ]
  },
  {
   "cell_type": "markdown",
   "id": "32e59c95",
   "metadata": {},
   "source": [
    "**1. Converting the \"review\" column values in Lower Case**"
   ]
  },
  {
   "cell_type": "code",
   "execution_count": 11,
   "id": "a7086d5b",
   "metadata": {},
   "outputs": [
    {
     "data": {
      "text/html": [
       "<div>\n",
       "<style scoped>\n",
       "    .dataframe tbody tr th:only-of-type {\n",
       "        vertical-align: middle;\n",
       "    }\n",
       "\n",
       "    .dataframe tbody tr th {\n",
       "        vertical-align: top;\n",
       "    }\n",
       "\n",
       "    .dataframe thead th {\n",
       "        text-align: right;\n",
       "    }\n",
       "</style>\n",
       "<table border=\"1\" class=\"dataframe\">\n",
       "  <thead>\n",
       "    <tr style=\"text-align: right;\">\n",
       "      <th></th>\n",
       "      <th>review</th>\n",
       "      <th>sentiment</th>\n",
       "    </tr>\n",
       "  </thead>\n",
       "  <tbody>\n",
       "    <tr>\n",
       "      <th>0</th>\n",
       "      <td>One of the other reviewers has mentioned that ...</td>\n",
       "      <td>positive</td>\n",
       "    </tr>\n",
       "    <tr>\n",
       "      <th>1</th>\n",
       "      <td>A wonderful little production. &lt;br /&gt;&lt;br /&gt;The...</td>\n",
       "      <td>positive</td>\n",
       "    </tr>\n",
       "    <tr>\n",
       "      <th>2</th>\n",
       "      <td>I thought this was a wonderful way to spend ti...</td>\n",
       "      <td>positive</td>\n",
       "    </tr>\n",
       "  </tbody>\n",
       "</table>\n",
       "</div>"
      ],
      "text/plain": [
       "                                              review sentiment\n",
       "0  One of the other reviewers has mentioned that ...  positive\n",
       "1  A wonderful little production. <br /><br />The...  positive\n",
       "2  I thought this was a wonderful way to spend ti...  positive"
      ]
     },
     "execution_count": 11,
     "metadata": {},
     "output_type": "execute_result"
    }
   ],
   "source": [
    "df.head(3)"
   ]
  },
  {
   "cell_type": "code",
   "execution_count": 12,
   "id": "e3a842cd",
   "metadata": {},
   "outputs": [
    {
     "data": {
      "text/html": [
       "<div>\n",
       "<style scoped>\n",
       "    .dataframe tbody tr th:only-of-type {\n",
       "        vertical-align: middle;\n",
       "    }\n",
       "\n",
       "    .dataframe tbody tr th {\n",
       "        vertical-align: top;\n",
       "    }\n",
       "\n",
       "    .dataframe thead th {\n",
       "        text-align: right;\n",
       "    }\n",
       "</style>\n",
       "<table border=\"1\" class=\"dataframe\">\n",
       "  <thead>\n",
       "    <tr style=\"text-align: right;\">\n",
       "      <th></th>\n",
       "      <th>review</th>\n",
       "      <th>sentiment</th>\n",
       "    </tr>\n",
       "  </thead>\n",
       "  <tbody>\n",
       "    <tr>\n",
       "      <th>0</th>\n",
       "      <td>one of the other reviewers has mentioned that ...</td>\n",
       "      <td>positive</td>\n",
       "    </tr>\n",
       "    <tr>\n",
       "      <th>1</th>\n",
       "      <td>a wonderful little production. &lt;br /&gt;&lt;br /&gt;the...</td>\n",
       "      <td>positive</td>\n",
       "    </tr>\n",
       "    <tr>\n",
       "      <th>2</th>\n",
       "      <td>i thought this was a wonderful way to spend ti...</td>\n",
       "      <td>positive</td>\n",
       "    </tr>\n",
       "  </tbody>\n",
       "</table>\n",
       "</div>"
      ],
      "text/plain": [
       "                                              review sentiment\n",
       "0  one of the other reviewers has mentioned that ...  positive\n",
       "1  a wonderful little production. <br /><br />the...  positive\n",
       "2  i thought this was a wonderful way to spend ti...  positive"
      ]
     },
     "execution_count": 12,
     "metadata": {},
     "output_type": "execute_result"
    }
   ],
   "source": [
    "df[\"review\"] = df[\"review\"].apply(lambda x: str(x).lower())\n",
    "df.head(3)"
   ]
  },
  {
   "cell_type": "markdown",
   "id": "4984bc31",
   "metadata": {},
   "source": [
    "**2. Contractions to Expansions**"
   ]
  },
  {
   "cell_type": "code",
   "execution_count": 13,
   "id": "909e4b32",
   "metadata": {},
   "outputs": [],
   "source": [
    "contractions = { \n",
    "\"ain't\": \"am not / are not / is not / has not / have not\",\n",
    "\"aren't\": \"are not / am not\",\n",
    "\"can't\": \"cannot\",\n",
    "\"can't've\": \"cannot have\",\n",
    "\"'cause\": \"because\",\n",
    "\"could've\": \"could have\",\n",
    "\"couldn't\": \"could not\",\n",
    "\"couldn't've\": \"could not have\",\n",
    "\"didn't\": \"did not\",\n",
    "\"doesn't\": \"does not\",\n",
    "\"don't\": \"do not\",\n",
    "\"hadn't\": \"had not\",\n",
    "\"hadn't've\": \"had not have\",\n",
    "\"hasn't\": \"has not\",\n",
    "\"haven't\": \"have not\",\n",
    "\"he'd\": \"he had / he would\",\n",
    "\"he'd've\": \"he would have\",\n",
    "\"he'll\": \"he shall / he will\",\n",
    "\"he'll've\": \"he shall have / he will have\",\n",
    "\"he's\": \"he has / he is\",\n",
    "\"how'd\": \"how did\",\n",
    "\"how'd'y\": \"how do you\",\n",
    "\"how'll\": \"how will\",\n",
    "\"how's\": \"how has / how is / how does\",\n",
    "\"I'd\": \"i had / i would\",\n",
    "\"I'd've\": \"i would have\",\n",
    "\"I'll\": \"i shall / i will\",\n",
    "\"I'll've\": \"i shall have / i will have\",\n",
    "\"I'm\": \"i am\",\n",
    "\"I've\": \"i have\",\n",
    "\"i'd\": \"i had / i would\",\n",
    "\"i'd've\": \"i would have\",\n",
    "\"i'll\": \"i shall / i will\",\n",
    "\"i'll've\": \"i shall have / i will have\",\n",
    "\"i'm\": \"i am\",\n",
    "\"i've\": \"i have\",\n",
    "\"isn't\": \"is not\",\n",
    "\"it'd\": \"it had / it would\",\n",
    "\"it'd've\": \"it would have\",\n",
    "\"it'll\": \"it shall / it will\",\n",
    "\"it'll've\": \"it shall have / it will have\",\n",
    "\"it's\": \"it has / it is\",\n",
    "\"let's\": \"let us\",\n",
    "\"ma'am\": \"madam\",\n",
    "\"mayn't\": \"may not\",\n",
    "\"might've\": \"might have\",\n",
    "\"mightn't\": \"might not\",\n",
    "\"mightn't've\": \"might not have\",\n",
    "\"must've\": \"must have\",\n",
    "\"mustn't\": \"must not\",\n",
    "\"mustn't've\": \"must not have\",\n",
    "\"needn't\": \"need not\",\n",
    "\"needn't've\": \"need not have\",\n",
    "\"o'clock\": \"of the clock\",\n",
    "\"oughtn't\": \"ought not\",\n",
    "\"oughtn't've\": \"ought not have\",\n",
    "\"shan't\": \"shall not\",\n",
    "\"sha'n't\": \"shall not\",\n",
    "\"shan't've\": \"shall not have\",\n",
    "\"she'd\": \"she had / she would\",\n",
    "\"she'd've\": \"she would have\",\n",
    "\"she'll\": \"she shall / she will\",\n",
    "\"she'll've\": \"she shall have / she will have\",\n",
    "\"she's\": \"she has / she is\",\n",
    "\"should've\": \"should have\",\n",
    "\"shouldn't\": \"should not\",\n",
    "\"shouldn't've\": \"should not have\",\n",
    "\"so've\": \"so have\",\n",
    "\"so's\": \"so as / so is\",\n",
    "\"that'd\": \"that would / that had\",\n",
    "\"that'd've\": \"that would have\",\n",
    "\"that's\": \"that has / that is\",\n",
    "\"there'd\": \"there had / there would\",\n",
    "\"there'd've\": \"there would have\",\n",
    "\"there's\": \"there has / there is\",\n",
    "\"they'd\": \"they had / they would\",\n",
    "\"they'd've\": \"they would have\",\n",
    "\"they'll\": \"they shall / they will\",\n",
    "\"they'll've\": \"they shall have / they will have\",\n",
    "\"they're\": \"they are\",\n",
    "\"they've\": \"they have\",\n",
    "\"to've\": \"to have\",\n",
    "\"wasn't\": \"was not\",\n",
    "\"we'd\": \"we had / we would\",\n",
    "\"we'd've\": \"we would have\",\n",
    "\"we'll\": \"we will\",\n",
    "\"we'll've\": \"we will have\",\n",
    "\"we're\": \"we are\",\n",
    "\"we've\": \"we have\",\n",
    "\"weren't\": \"were not\",\n",
    "\"what'll\": \"what shall / what will\",\n",
    "\"what'll've\": \"what shall have / what will have\",\n",
    "\"what're\": \"what are\",\n",
    "\"what's\": \"what has / what is\",\n",
    "\"what've\": \"what have\",\n",
    "\"when's\": \"when has / when is\",\n",
    "\"when've\": \"when have\",\n",
    "\"where'd\": \"where did\",\n",
    "\"where's\": \"where has / where is\",\n",
    "\"where've\": \"where have\",\n",
    "\"who'll\": \"who shall / who will\",\n",
    "\"who'll've\": \"who shall have / who will have\",\n",
    "\"who's\": \"who has / who is\",\n",
    "\"who've\": \"who have\",\n",
    "\"why's\": \"why has / why is\",\n",
    "\"why've\": \"why have\",\n",
    "\"will've\": \"will have\",\n",
    "\"won't\": \"will not\",\n",
    "\"won't've\": \"will not have\",\n",
    "\"would've\": \"would have\",\n",
    "\"wouldn't\": \"would not\",\n",
    "\"wouldn't've\": \"would not have\",\n",
    "\"y'all\": \"you all\",\n",
    "\"y'all'd\": \"you all would\",\n",
    "\"y'all'd've\": \"you all would have\",\n",
    "\"y'all're\": \"you all are\",\n",
    "\"y'all've\": \"you all have\",\n",
    "\"you'd\": \"you had / you would\",\n",
    "\"you'd've\": \"you would have\",\n",
    "\"you'll\": \"you shall / you will\",\n",
    "\"you'll've\": \"you shall have / you will have\",\n",
    "\"you're\": \"you are\",\n",
    "\"you've\": \"you have\"\n",
    "}"
   ]
  },
  {
   "cell_type": "code",
   "execution_count": 14,
   "id": "1d6c8705",
   "metadata": {},
   "outputs": [],
   "source": [
    "#creating a function\n",
    "def count_to_exp(x):\n",
    "    if type(x) is str:\n",
    "        for key in contractions:\n",
    "            value = contractions[key]\n",
    "            x=x.replace(key, value)\n",
    "        return x\n",
    "    else:\n",
    "        return x"
   ]
  },
  {
   "cell_type": "code",
   "execution_count": 15,
   "id": "d1fba3c8",
   "metadata": {},
   "outputs": [
    {
     "name": "stdout",
     "output_type": "stream",
     "text": [
      "13.1 s ± 1.18 s per loop (mean ± std. dev. of 7 runs, 1 loop each)\n"
     ]
    }
   ],
   "source": [
    "%%timeit\n",
    "df[\"review\"] = df[\"review\"].apply(lambda x: count_to_exp(x))"
   ]
  },
  {
   "cell_type": "code",
   "execution_count": 16,
   "id": "2c3440cf",
   "metadata": {},
   "outputs": [
    {
     "data": {
      "text/plain": [
       "<bound method NDFrame.head of                                                   review sentiment\n",
       "0      one of the other reviewers has mentioned that ...  positive\n",
       "1      a wonderful little production. <br /><br />the...  positive\n",
       "2      i thought this was a wonderful way to spend ti...  positive\n",
       "3      basically there has / there is a family where ...  negative\n",
       "4      petter mattei's \"love in the time of money\" is...  positive\n",
       "...                                                  ...       ...\n",
       "49995  i thought this movie did a down right good job...  positive\n",
       "49996  bad plot, bad dialogue, bad acting, idiotic di...  negative\n",
       "49997  i am a catholic taught in parochial elementary...  negative\n",
       "49998  i am going to have to disagree with the previo...  negative\n",
       "49999  no one expects the star trek movies to be high...  negative\n",
       "\n",
       "[50000 rows x 2 columns]>"
      ]
     },
     "execution_count": 16,
     "metadata": {},
     "output_type": "execute_result"
    }
   ],
   "source": [
    "df.head"
   ]
  },
  {
   "cell_type": "markdown",
   "id": "2898cf54",
   "metadata": {},
   "source": [
    "**3. Count and Remove Emails**"
   ]
  },
  {
   "cell_type": "code",
   "execution_count": 17,
   "id": "29716d6d",
   "metadata": {},
   "outputs": [
    {
     "name": "stdout",
     "output_type": "stream",
     "text": [
      "                                                  review sentiment\n",
      "8176   i could never remember the name of this show. ...  positive\n",
      "14570  i posted on imdb on this series recently, givi...  positive\n",
      "16961  i was lucky enough to get a dvd copy of this m...  positive\n",
      "26880  does anybody know why this movie is called the...  positive\n",
      "38645  i have been looking for this mini-series for a...  positive\n",
      "44408  i just wanted to say i liked this movie a lot,...  positive\n",
      "45292  i have been looking for the name of this film ...  positive\n"
     ]
    }
   ],
   "source": [
    "email_count = df[df[\"review\"].str.contains(\"hotmail.com\",\"gmail.com\")]\n",
    "print(email_count)"
   ]
  },
  {
   "cell_type": "code",
   "execution_count": 18,
   "id": "5aa08e31",
   "metadata": {},
   "outputs": [
    {
     "data": {
      "text/plain": [
       "7"
      ]
     },
     "execution_count": 18,
     "metadata": {},
     "output_type": "execute_result"
    }
   ],
   "source": [
    "len(email_count)"
   ]
  },
  {
   "cell_type": "code",
   "execution_count": 19,
   "id": "978d01be",
   "metadata": {},
   "outputs": [
    {
     "data": {
      "text/plain": [
       "'i could never remember the name of this show. i use to watch it when i was 8. i remember staying up late when i was not suppose to just so i could watch this show. it was the best show to me. from what i remember of it, it is still great. this showed starred lucas black making him the first boy i ever had a crush on. i am from the country, therefore boys with an accent have no appeal to me, but for him i would definitely make an exception. which after seeing crazy in alabama, friday night lights, and tokyo drift you should see why. he is a great actor and has been since he was a kid. i miss this show and wish it would come back out. if anyone ever sees where they are selling the season please email me. kywildflower16@hotmail.com'"
      ]
     },
     "execution_count": 19,
     "metadata": {},
     "output_type": "execute_result"
    }
   ],
   "source": [
    "df[\"review\"][8176]"
   ]
  },
  {
   "cell_type": "code",
   "execution_count": 20,
   "id": "4930c6ed",
   "metadata": {},
   "outputs": [
    {
     "data": {
      "text/plain": [
       "'i posted on imdb on this series recently, giving a snail mail address at the commercial arm of the bbd where one would write to appeal release. i wrote to that address, mentioning sam waterson and his popularity prominently. i just received the following reply: <br /><br />from: emilyfussell@hotmail.com subject: oppenheimer date: may 14, 2006 1:44:00 pm mdt to: kk2840@earthlink.net <br /><br />dear kate, <br /><br />i work for the bbfc, the british equivalent to the mpaa, and we classify dvds and videos as well as films in this country. anyway, i am currently in the process of giving a certificate to the 1980 miniseries \\'oppenheimer.\\' while researching the work on the imdb, i noticed your post and thought you might like to know that the work is about to be released (hence the need for a certificate). <br /><br />i do not know which company is distributing it, but keep your eyes peeled! <br /><br />kind regards, <br /><br />emily +++++++++++++++++ <br /><br />hooray! <br /><br />i also want to contact netflix re purchasing this. <br /><br />kate killebrew <br /><br />kk2840@earthlink.net i emailed the bbc recently regarding whether their terrific series oppenheimer had ever been released on video or dvd. i have not been able to find it. i received the following reply. if you do write the bbc, be sure to mention that sam waterston is very popular in the us. you can also enter \"oppenheimer (1980)\" on amazon.com, and find a box to check to request release by the owner (bbc) and be notified when it has / it is released. <br /><br />kate killebrew kk2840@earthlink.net<br /><br />here\\'s the reply from the bbc:<br /><br />dear kate<br /><br />thank you for your e-mail regarding \\'oppenheimer\\'.<br /><br />i was interested to read that you would like a copy of this programme which you have enjoyed. i have checked the bbc shop and on-line retailers and can find no record of it being available. we are unaware of plans at present to release this programme on dvd. however, if you would like to make a suggestion, can i suggest you put it in writing to the commercial arm of the bbc:<br /><br />commissioning editor bbc worldwide ltd woodlands 80 wood lane london w12 0tt<br /><br />may i thank you again for taking the time to contact the bbc.<br /><br />regards<br /><br />elaine hunter bbc information ______________________________________<br /><br />-----original message-----<br /><br />{comments:} i am trying to find a copy of the terrific bbc production \"oppenheimer\\', a six part series made in 1980 with sam waterston from a book/script by peter prince. i watched parts of it then on pbs american playhouse, but cannot find it on video anywhere.<br /><br />http://www.bbc.co.uk/'"
      ]
     },
     "execution_count": 20,
     "metadata": {},
     "output_type": "execute_result"
    }
   ],
   "source": [
    "df[\"review\"][14570]"
   ]
  },
  {
   "cell_type": "code",
   "execution_count": 21,
   "id": "b7c0b35f",
   "metadata": {},
   "outputs": [],
   "source": [
    "import re"
   ]
  },
  {
   "cell_type": "code",
   "execution_count": 22,
   "id": "a1207516",
   "metadata": {},
   "outputs": [],
   "source": [
    "x = 'if anyone ever sees where they are selling the season please email me. kywildflower16@hotmail.com'"
   ]
  },
  {
   "cell_type": "code",
   "execution_count": 23,
   "id": "f1d5a84e",
   "metadata": {},
   "outputs": [
    {
     "data": {
      "text/plain": [
       "['kywildflower16@hotmail.com']"
      ]
     },
     "execution_count": 23,
     "metadata": {},
     "output_type": "execute_result"
    }
   ],
   "source": [
    "re.findall(r'([a-z0-9+._-]+@[a-z0-9+._-]+\\.[a-z0-9+._-]+\\b)', x)"
   ]
  },
  {
   "cell_type": "code",
   "execution_count": 24,
   "id": "b4e09630",
   "metadata": {},
   "outputs": [],
   "source": [
    "df[\"email\"] = df[\"review\"].apply(lambda x: re.findall(r'([a-z0-9+._-]+@[a-z0-9+._-]+\\.[a-z0-9+._-]+\\b)', x))"
   ]
  },
  {
   "cell_type": "code",
   "execution_count": 25,
   "id": "201f167f",
   "metadata": {},
   "outputs": [],
   "source": [
    "df[\"email_count\"] = df[\"email\"].apply(lambda x: len(x))"
   ]
  },
  {
   "cell_type": "code",
   "execution_count": 26,
   "id": "6c8f99d3",
   "metadata": {},
   "outputs": [
    {
     "data": {
      "text/html": [
       "<div>\n",
       "<style scoped>\n",
       "    .dataframe tbody tr th:only-of-type {\n",
       "        vertical-align: middle;\n",
       "    }\n",
       "\n",
       "    .dataframe tbody tr th {\n",
       "        vertical-align: top;\n",
       "    }\n",
       "\n",
       "    .dataframe thead th {\n",
       "        text-align: right;\n",
       "    }\n",
       "</style>\n",
       "<table border=\"1\" class=\"dataframe\">\n",
       "  <thead>\n",
       "    <tr style=\"text-align: right;\">\n",
       "      <th></th>\n",
       "      <th>review</th>\n",
       "      <th>sentiment</th>\n",
       "      <th>email</th>\n",
       "      <th>email_count</th>\n",
       "    </tr>\n",
       "  </thead>\n",
       "  <tbody>\n",
       "    <tr>\n",
       "      <th>1281</th>\n",
       "      <td>i like many others saw this as a child and i l...</td>\n",
       "      <td>positive</td>\n",
       "      <td>[tcampo23@aol.com]</td>\n",
       "      <td>1</td>\n",
       "    </tr>\n",
       "    <tr>\n",
       "      <th>3568</th>\n",
       "      <td>i have noticed that people have asked if anyon...</td>\n",
       "      <td>positive</td>\n",
       "      <td>[creator67@pipinternet.net]</td>\n",
       "      <td>1</td>\n",
       "    </tr>\n",
       "    <tr>\n",
       "      <th>5068</th>\n",
       "      <td>brilliant adaptation of the largely interior m...</td>\n",
       "      <td>positive</td>\n",
       "      <td>[invinoveritas1@aol.com]</td>\n",
       "      <td>1</td>\n",
       "    </tr>\n",
       "    <tr>\n",
       "      <th>8176</th>\n",
       "      <td>i could never remember the name of this show. ...</td>\n",
       "      <td>positive</td>\n",
       "      <td>[kywildflower16@hotmail.com]</td>\n",
       "      <td>1</td>\n",
       "    </tr>\n",
       "    <tr>\n",
       "      <th>8474</th>\n",
       "      <td>i am like the rest of the fans who love this c...</td>\n",
       "      <td>positive</td>\n",
       "      <td>[stone_stew@yahoo.co.uk]</td>\n",
       "      <td>1</td>\n",
       "    </tr>\n",
       "    <tr>\n",
       "      <th>9510</th>\n",
       "      <td>i cant believe how many excellent actors can b...</td>\n",
       "      <td>positive</td>\n",
       "      <td>[lkhubble2@talkamerica.net]</td>\n",
       "      <td>1</td>\n",
       "    </tr>\n",
       "    <tr>\n",
       "      <th>9978</th>\n",
       "      <td>i really cannot say too much more about the pl...</td>\n",
       "      <td>positive</td>\n",
       "      <td>[tawnyteel@yahoo.com]</td>\n",
       "      <td>1</td>\n",
       "    </tr>\n",
       "    <tr>\n",
       "      <th>12166</th>\n",
       "      <td>robert jordan is a television star. robert jor...</td>\n",
       "      <td>positive</td>\n",
       "      <td>[iamaseal2@yahoo.com]</td>\n",
       "      <td>1</td>\n",
       "    </tr>\n",
       "    <tr>\n",
       "      <th>13471</th>\n",
       "      <td>this movie was everything but boring. it deals...</td>\n",
       "      <td>positive</td>\n",
       "      <td>[ottenbreit2@netzero.net]</td>\n",
       "      <td>1</td>\n",
       "    </tr>\n",
       "    <tr>\n",
       "      <th>13741</th>\n",
       "      <td>i love this movie. and disney channel is ridic...</td>\n",
       "      <td>positive</td>\n",
       "      <td>[cristin6891@aim.com]</td>\n",
       "      <td>1</td>\n",
       "    </tr>\n",
       "    <tr>\n",
       "      <th>13812</th>\n",
       "      <td>well, eyeboy, i must say that it pleases me to...</td>\n",
       "      <td>negative</td>\n",
       "      <td>[bits@midohio.net]</td>\n",
       "      <td>1</td>\n",
       "    </tr>\n",
       "    <tr>\n",
       "      <th>14570</th>\n",
       "      <td>i posted on imdb on this series recently, givi...</td>\n",
       "      <td>positive</td>\n",
       "      <td>[emilyfussell@hotmail.com, kk2840@earthlink.ne...</td>\n",
       "      <td>4</td>\n",
       "    </tr>\n",
       "    <tr>\n",
       "      <th>15094</th>\n",
       "      <td>has anyone been able to buy this movie? my unc...</td>\n",
       "      <td>positive</td>\n",
       "      <td>[nfny40@yahoo.com]</td>\n",
       "      <td>1</td>\n",
       "    </tr>\n",
       "    <tr>\n",
       "      <th>16536</th>\n",
       "      <td>john water's (\"pink flamingos\"...) \"pecker\" is...</td>\n",
       "      <td>positive</td>\n",
       "      <td>[jpieczanski@sidwell.edu]</td>\n",
       "      <td>1</td>\n",
       "    </tr>\n",
       "    <tr>\n",
       "      <th>16961</th>\n",
       "      <td>i was lucky enough to get a dvd copy of this m...</td>\n",
       "      <td>positive</td>\n",
       "      <td>[whiteflokati@hotmail.com]</td>\n",
       "      <td>1</td>\n",
       "    </tr>\n",
       "    <tr>\n",
       "      <th>17332</th>\n",
       "      <td>hello, i was wondering if anyone has a copy of...</td>\n",
       "      <td>positive</td>\n",
       "      <td>[noelgypsy@yahoo.com]</td>\n",
       "      <td>1</td>\n",
       "    </tr>\n",
       "    <tr>\n",
       "      <th>17801</th>\n",
       "      <td>robert jordan is a television star. robert jor...</td>\n",
       "      <td>positive</td>\n",
       "      <td>[iamaseal2@yahoo.com]</td>\n",
       "      <td>1</td>\n",
       "    </tr>\n",
       "    <tr>\n",
       "      <th>18889</th>\n",
       "      <td>i watched this episode a lot of times because ...</td>\n",
       "      <td>positive</td>\n",
       "      <td>[angelpuss924@yahoo.com]</td>\n",
       "      <td>1</td>\n",
       "    </tr>\n",
       "    <tr>\n",
       "      <th>19219</th>\n",
       "      <td>i loved this program, and for years searched f...</td>\n",
       "      <td>positive</td>\n",
       "      <td>[thndrmouse@aol.com]</td>\n",
       "      <td>1</td>\n",
       "    </tr>\n",
       "    <tr>\n",
       "      <th>21828</th>\n",
       "      <td>ever sense i was a kid i have loved this movie...</td>\n",
       "      <td>positive</td>\n",
       "      <td>[wrp24@adelphia.net]</td>\n",
       "      <td>1</td>\n",
       "    </tr>\n",
       "  </tbody>\n",
       "</table>\n",
       "</div>"
      ],
      "text/plain": [
       "                                                  review sentiment  \\\n",
       "1281   i like many others saw this as a child and i l...  positive   \n",
       "3568   i have noticed that people have asked if anyon...  positive   \n",
       "5068   brilliant adaptation of the largely interior m...  positive   \n",
       "8176   i could never remember the name of this show. ...  positive   \n",
       "8474   i am like the rest of the fans who love this c...  positive   \n",
       "9510   i cant believe how many excellent actors can b...  positive   \n",
       "9978   i really cannot say too much more about the pl...  positive   \n",
       "12166  robert jordan is a television star. robert jor...  positive   \n",
       "13471  this movie was everything but boring. it deals...  positive   \n",
       "13741  i love this movie. and disney channel is ridic...  positive   \n",
       "13812  well, eyeboy, i must say that it pleases me to...  negative   \n",
       "14570  i posted on imdb on this series recently, givi...  positive   \n",
       "15094  has anyone been able to buy this movie? my unc...  positive   \n",
       "16536  john water's (\"pink flamingos\"...) \"pecker\" is...  positive   \n",
       "16961  i was lucky enough to get a dvd copy of this m...  positive   \n",
       "17332  hello, i was wondering if anyone has a copy of...  positive   \n",
       "17801  robert jordan is a television star. robert jor...  positive   \n",
       "18889  i watched this episode a lot of times because ...  positive   \n",
       "19219  i loved this program, and for years searched f...  positive   \n",
       "21828  ever sense i was a kid i have loved this movie...  positive   \n",
       "\n",
       "                                                   email  email_count  \n",
       "1281                                  [tcampo23@aol.com]            1  \n",
       "3568                         [creator67@pipinternet.net]            1  \n",
       "5068                            [invinoveritas1@aol.com]            1  \n",
       "8176                        [kywildflower16@hotmail.com]            1  \n",
       "8474                            [stone_stew@yahoo.co.uk]            1  \n",
       "9510                         [lkhubble2@talkamerica.net]            1  \n",
       "9978                               [tawnyteel@yahoo.com]            1  \n",
       "12166                              [iamaseal2@yahoo.com]            1  \n",
       "13471                          [ottenbreit2@netzero.net]            1  \n",
       "13741                              [cristin6891@aim.com]            1  \n",
       "13812                                 [bits@midohio.net]            1  \n",
       "14570  [emilyfussell@hotmail.com, kk2840@earthlink.ne...            4  \n",
       "15094                                 [nfny40@yahoo.com]            1  \n",
       "16536                          [jpieczanski@sidwell.edu]            1  \n",
       "16961                         [whiteflokati@hotmail.com]            1  \n",
       "17332                              [noelgypsy@yahoo.com]            1  \n",
       "17801                              [iamaseal2@yahoo.com]            1  \n",
       "18889                           [angelpuss924@yahoo.com]            1  \n",
       "19219                               [thndrmouse@aol.com]            1  \n",
       "21828                               [wrp24@adelphia.net]            1  "
      ]
     },
     "execution_count": 26,
     "metadata": {},
     "output_type": "execute_result"
    }
   ],
   "source": [
    "df[df[\"email_count\"]>0].head(20)"
   ]
  },
  {
   "cell_type": "code",
   "execution_count": 27,
   "id": "0ef67241",
   "metadata": {},
   "outputs": [
    {
     "data": {
      "text/html": [
       "<div>\n",
       "<style scoped>\n",
       "    .dataframe tbody tr th:only-of-type {\n",
       "        vertical-align: middle;\n",
       "    }\n",
       "\n",
       "    .dataframe tbody tr th {\n",
       "        vertical-align: top;\n",
       "    }\n",
       "\n",
       "    .dataframe thead th {\n",
       "        text-align: right;\n",
       "    }\n",
       "</style>\n",
       "<table border=\"1\" class=\"dataframe\">\n",
       "  <thead>\n",
       "    <tr style=\"text-align: right;\">\n",
       "      <th></th>\n",
       "      <th>review</th>\n",
       "      <th>sentiment</th>\n",
       "      <th>email</th>\n",
       "      <th>email_count</th>\n",
       "    </tr>\n",
       "  </thead>\n",
       "  <tbody>\n",
       "    <tr>\n",
       "      <th>26880</th>\n",
       "      <td>does anybody know why this movie is called the...</td>\n",
       "      <td>positive</td>\n",
       "      <td>[killer2511@hotmail.com]</td>\n",
       "      <td>1</td>\n",
       "    </tr>\n",
       "    <tr>\n",
       "      <th>28373</th>\n",
       "      <td>every once in a while you stumble across a mov...</td>\n",
       "      <td>positive</td>\n",
       "      <td>[contact@fightrunner.co.uk]</td>\n",
       "      <td>1</td>\n",
       "    </tr>\n",
       "    <tr>\n",
       "      <th>29355</th>\n",
       "      <td>robert jordan is a television star. robert jor...</td>\n",
       "      <td>positive</td>\n",
       "      <td>[iamaseal2@yahoo.com]</td>\n",
       "      <td>1</td>\n",
       "    </tr>\n",
       "    <tr>\n",
       "      <th>29880</th>\n",
       "      <td>granny is the best movie ever ganny is the bes...</td>\n",
       "      <td>positive</td>\n",
       "      <td>[iloverot@aol.com]</td>\n",
       "      <td>1</td>\n",
       "    </tr>\n",
       "    <tr>\n",
       "      <th>33151</th>\n",
       "      <td>i saw this movie once as a kid on the late-lat...</td>\n",
       "      <td>positive</td>\n",
       "      <td>[cartwrightbride@yahoo.com]</td>\n",
       "      <td>1</td>\n",
       "    </tr>\n",
       "    <tr>\n",
       "      <th>34518</th>\n",
       "      <td>i desperately need this on a tape, not a dvd, ...</td>\n",
       "      <td>positive</td>\n",
       "      <td>[l.swanberg@yahoo.com]</td>\n",
       "      <td>1</td>\n",
       "    </tr>\n",
       "    <tr>\n",
       "      <th>35989</th>\n",
       "      <td>i know this sounds odd coming from someone bor...</td>\n",
       "      <td>positive</td>\n",
       "      <td>[darkangel_1627@yahoo.com]</td>\n",
       "      <td>1</td>\n",
       "    </tr>\n",
       "    <tr>\n",
       "      <th>37153</th>\n",
       "      <td>i have never seen one of these scifi originals...</td>\n",
       "      <td>negative</td>\n",
       "      <td>[deusexmachina529@aol.com]</td>\n",
       "      <td>1</td>\n",
       "    </tr>\n",
       "    <tr>\n",
       "      <th>37363</th>\n",
       "      <td>this movie was great and i would like to buy i...</td>\n",
       "      <td>positive</td>\n",
       "      <td>[movie.deniselacey2000@yahoo.com]</td>\n",
       "      <td>1</td>\n",
       "    </tr>\n",
       "    <tr>\n",
       "      <th>38645</th>\n",
       "      <td>i have been looking for this mini-series for a...</td>\n",
       "      <td>positive</td>\n",
       "      <td>[yurets777@hotmail.com]</td>\n",
       "      <td>1</td>\n",
       "    </tr>\n",
       "    <tr>\n",
       "      <th>38752</th>\n",
       "      <td>i remember watching an elizabeth montgomery mo...</td>\n",
       "      <td>positive</td>\n",
       "      <td>[valid908@yahoo.com]</td>\n",
       "      <td>1</td>\n",
       "    </tr>\n",
       "    <tr>\n",
       "      <th>39231</th>\n",
       "      <td>i love this movie. is it on air anymore? what ...</td>\n",
       "      <td>positive</td>\n",
       "      <td>[girlygirl148@aol.com]</td>\n",
       "      <td>1</td>\n",
       "    </tr>\n",
       "    <tr>\n",
       "      <th>39625</th>\n",
       "      <td>i remember seeing this film years ago on, i th...</td>\n",
       "      <td>positive</td>\n",
       "      <td>[albany234@googlemail.com]</td>\n",
       "      <td>1</td>\n",
       "    </tr>\n",
       "    <tr>\n",
       "      <th>42351</th>\n",
       "      <td>in this grim melodrama, barbara stanwyck plays...</td>\n",
       "      <td>positive</td>\n",
       "      <td>[iamaseal2@yahoo.com]</td>\n",
       "      <td>1</td>\n",
       "    </tr>\n",
       "    <tr>\n",
       "      <th>43577</th>\n",
       "      <td>yes i have a copy of it on vhs uncut in great ...</td>\n",
       "      <td>positive</td>\n",
       "      <td>[dmd2222@verizon.net.i]</td>\n",
       "      <td>1</td>\n",
       "    </tr>\n",
       "    <tr>\n",
       "      <th>43734</th>\n",
       "      <td>a major moneymaker for rko radio, bombardier s...</td>\n",
       "      <td>positive</td>\n",
       "      <td>[iamaseal2@yahoo.com]</td>\n",
       "      <td>1</td>\n",
       "    </tr>\n",
       "    <tr>\n",
       "      <th>44408</th>\n",
       "      <td>i just wanted to say i liked this movie a lot,...</td>\n",
       "      <td>positive</td>\n",
       "      <td>[hpn_x@hotmail.com, hpn_x@hotmail.com]</td>\n",
       "      <td>2</td>\n",
       "    </tr>\n",
       "    <tr>\n",
       "      <th>45292</th>\n",
       "      <td>i have been looking for the name of this film ...</td>\n",
       "      <td>positive</td>\n",
       "      <td>[horsecoach4hire@hotmail.com]</td>\n",
       "      <td>1</td>\n",
       "    </tr>\n",
       "    <tr>\n",
       "      <th>46357</th>\n",
       "      <td>this is the best movie i have ever seen.&lt;br /&gt;...</td>\n",
       "      <td>positive</td>\n",
       "      <td>[vannoord@let.rug.nl, vannoord@let.rug.nl]</td>\n",
       "      <td>2</td>\n",
       "    </tr>\n",
       "    <tr>\n",
       "      <th>48556</th>\n",
       "      <td>i agree with most if not all of the previous c...</td>\n",
       "      <td>negative</td>\n",
       "      <td>[bighouseaz@yahoo.com]</td>\n",
       "      <td>1</td>\n",
       "    </tr>\n",
       "  </tbody>\n",
       "</table>\n",
       "</div>"
      ],
      "text/plain": [
       "                                                  review sentiment  \\\n",
       "26880  does anybody know why this movie is called the...  positive   \n",
       "28373  every once in a while you stumble across a mov...  positive   \n",
       "29355  robert jordan is a television star. robert jor...  positive   \n",
       "29880  granny is the best movie ever ganny is the bes...  positive   \n",
       "33151  i saw this movie once as a kid on the late-lat...  positive   \n",
       "34518  i desperately need this on a tape, not a dvd, ...  positive   \n",
       "35989  i know this sounds odd coming from someone bor...  positive   \n",
       "37153  i have never seen one of these scifi originals...  negative   \n",
       "37363  this movie was great and i would like to buy i...  positive   \n",
       "38645  i have been looking for this mini-series for a...  positive   \n",
       "38752  i remember watching an elizabeth montgomery mo...  positive   \n",
       "39231  i love this movie. is it on air anymore? what ...  positive   \n",
       "39625  i remember seeing this film years ago on, i th...  positive   \n",
       "42351  in this grim melodrama, barbara stanwyck plays...  positive   \n",
       "43577  yes i have a copy of it on vhs uncut in great ...  positive   \n",
       "43734  a major moneymaker for rko radio, bombardier s...  positive   \n",
       "44408  i just wanted to say i liked this movie a lot,...  positive   \n",
       "45292  i have been looking for the name of this film ...  positive   \n",
       "46357  this is the best movie i have ever seen.<br />...  positive   \n",
       "48556  i agree with most if not all of the previous c...  negative   \n",
       "\n",
       "                                            email  email_count  \n",
       "26880                    [killer2511@hotmail.com]            1  \n",
       "28373                 [contact@fightrunner.co.uk]            1  \n",
       "29355                       [iamaseal2@yahoo.com]            1  \n",
       "29880                          [iloverot@aol.com]            1  \n",
       "33151                 [cartwrightbride@yahoo.com]            1  \n",
       "34518                      [l.swanberg@yahoo.com]            1  \n",
       "35989                  [darkangel_1627@yahoo.com]            1  \n",
       "37153                  [deusexmachina529@aol.com]            1  \n",
       "37363           [movie.deniselacey2000@yahoo.com]            1  \n",
       "38645                     [yurets777@hotmail.com]            1  \n",
       "38752                        [valid908@yahoo.com]            1  \n",
       "39231                      [girlygirl148@aol.com]            1  \n",
       "39625                  [albany234@googlemail.com]            1  \n",
       "42351                       [iamaseal2@yahoo.com]            1  \n",
       "43577                     [dmd2222@verizon.net.i]            1  \n",
       "43734                       [iamaseal2@yahoo.com]            1  \n",
       "44408      [hpn_x@hotmail.com, hpn_x@hotmail.com]            2  \n",
       "45292               [horsecoach4hire@hotmail.com]            1  \n",
       "46357  [vannoord@let.rug.nl, vannoord@let.rug.nl]            2  \n",
       "48556                      [bighouseaz@yahoo.com]            1  "
      ]
     },
     "execution_count": 27,
     "metadata": {},
     "output_type": "execute_result"
    }
   ],
   "source": [
    "df[df[\"email_count\"]>0].tail(20)"
   ]
  },
  {
   "cell_type": "code",
   "execution_count": 28,
   "id": "8e8ebe3c",
   "metadata": {},
   "outputs": [],
   "source": [
    "df[\"review\"] = df[\"review\"].apply(lambda x: re.sub(r'([a-z0-9+._-]+@[a-z0-9+._-]+\\.[a-z0-9+._-]+\\b)', \"\" ,x))"
   ]
  },
  {
   "cell_type": "code",
   "execution_count": 29,
   "id": "bb5541af",
   "metadata": {},
   "outputs": [
    {
     "data": {
      "text/html": [
       "<div>\n",
       "<style scoped>\n",
       "    .dataframe tbody tr th:only-of-type {\n",
       "        vertical-align: middle;\n",
       "    }\n",
       "\n",
       "    .dataframe tbody tr th {\n",
       "        vertical-align: top;\n",
       "    }\n",
       "\n",
       "    .dataframe thead th {\n",
       "        text-align: right;\n",
       "    }\n",
       "</style>\n",
       "<table border=\"1\" class=\"dataframe\">\n",
       "  <thead>\n",
       "    <tr style=\"text-align: right;\">\n",
       "      <th></th>\n",
       "      <th>review</th>\n",
       "      <th>sentiment</th>\n",
       "      <th>email</th>\n",
       "      <th>email_count</th>\n",
       "    </tr>\n",
       "  </thead>\n",
       "  <tbody>\n",
       "    <tr>\n",
       "      <th>0</th>\n",
       "      <td>one of the other reviewers has mentioned that ...</td>\n",
       "      <td>positive</td>\n",
       "      <td>[]</td>\n",
       "      <td>0</td>\n",
       "    </tr>\n",
       "    <tr>\n",
       "      <th>1</th>\n",
       "      <td>a wonderful little production. &lt;br /&gt;&lt;br /&gt;the...</td>\n",
       "      <td>positive</td>\n",
       "      <td>[]</td>\n",
       "      <td>0</td>\n",
       "    </tr>\n",
       "    <tr>\n",
       "      <th>2</th>\n",
       "      <td>i thought this was a wonderful way to spend ti...</td>\n",
       "      <td>positive</td>\n",
       "      <td>[]</td>\n",
       "      <td>0</td>\n",
       "    </tr>\n",
       "    <tr>\n",
       "      <th>3</th>\n",
       "      <td>basically there has / there is a family where ...</td>\n",
       "      <td>negative</td>\n",
       "      <td>[]</td>\n",
       "      <td>0</td>\n",
       "    </tr>\n",
       "    <tr>\n",
       "      <th>4</th>\n",
       "      <td>petter mattei's \"love in the time of money\" is...</td>\n",
       "      <td>positive</td>\n",
       "      <td>[]</td>\n",
       "      <td>0</td>\n",
       "    </tr>\n",
       "  </tbody>\n",
       "</table>\n",
       "</div>"
      ],
      "text/plain": [
       "                                              review sentiment email  \\\n",
       "0  one of the other reviewers has mentioned that ...  positive    []   \n",
       "1  a wonderful little production. <br /><br />the...  positive    []   \n",
       "2  i thought this was a wonderful way to spend ti...  positive    []   \n",
       "3  basically there has / there is a family where ...  negative    []   \n",
       "4  petter mattei's \"love in the time of money\" is...  positive    []   \n",
       "\n",
       "   email_count  \n",
       "0            0  \n",
       "1            0  \n",
       "2            0  \n",
       "3            0  \n",
       "4            0  "
      ]
     },
     "execution_count": 29,
     "metadata": {},
     "output_type": "execute_result"
    }
   ],
   "source": [
    "df.head()"
   ]
  },
  {
   "cell_type": "code",
   "execution_count": 30,
   "id": "7266a5d7",
   "metadata": {},
   "outputs": [
    {
     "data": {
      "text/plain": [
       "\"does anybody know why this movie is called the couch trip? i was just watching it and am still not sure why this title was picked the movie was very funny and its probably my favorite dan aykroyd performance it even beats out his ghostbusters performance i had never heard of the movie before i seen it in a sears store i read the back and thought it sounded good so i bought and when i finally got a chance to watch it, i thought it was better than what i had originally expected. this movie rates as good as animal house and national lampoon's vacation in my mind i wish comedies that have come out lately were written as well as this one was nothing sad happens in it and the bad stuff that does happen are also funny parts if anyone else feels this way and would like to read a comedy script for a movie that does not have a sad situation in it email me at \""
      ]
     },
     "execution_count": 30,
     "metadata": {},
     "output_type": "execute_result"
    }
   ],
   "source": [
    "df[\"review\"][26880]"
   ]
  },
  {
   "cell_type": "code",
   "execution_count": 31,
   "id": "c4a13c4f",
   "metadata": {},
   "outputs": [],
   "source": [
    "df.drop(\"email\", axis=1, inplace=True)"
   ]
  },
  {
   "cell_type": "code",
   "execution_count": 32,
   "id": "34d82a0d",
   "metadata": {},
   "outputs": [],
   "source": [
    "df.drop(\"email_count\", axis=1, inplace=True)"
   ]
  },
  {
   "cell_type": "code",
   "execution_count": 33,
   "id": "5b354a27",
   "metadata": {},
   "outputs": [
    {
     "data": {
      "text/html": [
       "<div>\n",
       "<style scoped>\n",
       "    .dataframe tbody tr th:only-of-type {\n",
       "        vertical-align: middle;\n",
       "    }\n",
       "\n",
       "    .dataframe tbody tr th {\n",
       "        vertical-align: top;\n",
       "    }\n",
       "\n",
       "    .dataframe thead th {\n",
       "        text-align: right;\n",
       "    }\n",
       "</style>\n",
       "<table border=\"1\" class=\"dataframe\">\n",
       "  <thead>\n",
       "    <tr style=\"text-align: right;\">\n",
       "      <th></th>\n",
       "      <th>review</th>\n",
       "      <th>sentiment</th>\n",
       "    </tr>\n",
       "  </thead>\n",
       "  <tbody>\n",
       "    <tr>\n",
       "      <th>0</th>\n",
       "      <td>one of the other reviewers has mentioned that ...</td>\n",
       "      <td>positive</td>\n",
       "    </tr>\n",
       "    <tr>\n",
       "      <th>1</th>\n",
       "      <td>a wonderful little production. &lt;br /&gt;&lt;br /&gt;the...</td>\n",
       "      <td>positive</td>\n",
       "    </tr>\n",
       "    <tr>\n",
       "      <th>2</th>\n",
       "      <td>i thought this was a wonderful way to spend ti...</td>\n",
       "      <td>positive</td>\n",
       "    </tr>\n",
       "    <tr>\n",
       "      <th>3</th>\n",
       "      <td>basically there has / there is a family where ...</td>\n",
       "      <td>negative</td>\n",
       "    </tr>\n",
       "    <tr>\n",
       "      <th>4</th>\n",
       "      <td>petter mattei's \"love in the time of money\" is...</td>\n",
       "      <td>positive</td>\n",
       "    </tr>\n",
       "  </tbody>\n",
       "</table>\n",
       "</div>"
      ],
      "text/plain": [
       "                                              review sentiment\n",
       "0  one of the other reviewers has mentioned that ...  positive\n",
       "1  a wonderful little production. <br /><br />the...  positive\n",
       "2  i thought this was a wonderful way to spend ti...  positive\n",
       "3  basically there has / there is a family where ...  negative\n",
       "4  petter mattei's \"love in the time of money\" is...  positive"
      ]
     },
     "execution_count": 33,
     "metadata": {},
     "output_type": "execute_result"
    }
   ],
   "source": [
    "df.head()"
   ]
  },
  {
   "cell_type": "markdown",
   "id": "840f9464",
   "metadata": {},
   "source": [
    "**4. Count URL's and Remove it**"
   ]
  },
  {
   "cell_type": "code",
   "execution_count": 34,
   "id": "3dc0b2b9",
   "metadata": {},
   "outputs": [],
   "source": [
    "x = \"hi, thanks for watching https://youtube.com/Bloomberg\""
   ]
  },
  {
   "cell_type": "code",
   "execution_count": 35,
   "id": "44d21b51",
   "metadata": {},
   "outputs": [
    {
     "data": {
      "text/plain": [
       "[('https', 'youtube.com', '/Bloomberg')]"
      ]
     },
     "execution_count": 35,
     "metadata": {},
     "output_type": "execute_result"
    }
   ],
   "source": [
    "re.findall(r'(http|https|ftp|ssh)://([\\w_-]+(?:(?:\\.[\\w_-]+)+))([\\w.,@?^=%&:/~+#-]*[\\w@?^=%&/~+#-])?', x)"
   ]
  },
  {
   "cell_type": "code",
   "execution_count": 36,
   "id": "d54641a1",
   "metadata": {},
   "outputs": [],
   "source": [
    "df[\"url_flags\"] = df[\"review\"].apply(lambda x: len(re.findall(r'(http|https|ftp|ssh)://([\\w_-]+(?:(?:\\.[\\w_-]+)+))([\\w.,@?^=%&:/~+#-]*[\\w@?^=%&/~+#-])?', x)))"
   ]
  },
  {
   "cell_type": "code",
   "execution_count": 37,
   "id": "e8e8df9b",
   "metadata": {},
   "outputs": [
    {
     "data": {
      "text/html": [
       "<div>\n",
       "<style scoped>\n",
       "    .dataframe tbody tr th:only-of-type {\n",
       "        vertical-align: middle;\n",
       "    }\n",
       "\n",
       "    .dataframe tbody tr th {\n",
       "        vertical-align: top;\n",
       "    }\n",
       "\n",
       "    .dataframe thead th {\n",
       "        text-align: right;\n",
       "    }\n",
       "</style>\n",
       "<table border=\"1\" class=\"dataframe\">\n",
       "  <thead>\n",
       "    <tr style=\"text-align: right;\">\n",
       "      <th></th>\n",
       "      <th>review</th>\n",
       "      <th>sentiment</th>\n",
       "      <th>url_flags</th>\n",
       "    </tr>\n",
       "  </thead>\n",
       "  <tbody>\n",
       "    <tr>\n",
       "      <th>907</th>\n",
       "      <td>following directly from where the story left o...</td>\n",
       "      <td>positive</td>\n",
       "      <td>1</td>\n",
       "    </tr>\n",
       "    <tr>\n",
       "      <th>1088</th>\n",
       "      <td>this quasi j-horror film followed a young woma...</td>\n",
       "      <td>negative</td>\n",
       "      <td>1</td>\n",
       "    </tr>\n",
       "    <tr>\n",
       "      <th>1972</th>\n",
       "      <td>the basic plot of 'marigold' boasts of a roman...</td>\n",
       "      <td>negative</td>\n",
       "      <td>1</td>\n",
       "    </tr>\n",
       "    <tr>\n",
       "      <th>2132</th>\n",
       "      <td>i, too, found \"oppenheimer\" to be a brilliant ...</td>\n",
       "      <td>positive</td>\n",
       "      <td>1</td>\n",
       "    </tr>\n",
       "    <tr>\n",
       "      <th>3038</th>\n",
       "      <td>i really love this movie , i saw it for the fi...</td>\n",
       "      <td>positive</td>\n",
       "      <td>1</td>\n",
       "    </tr>\n",
       "    <tr>\n",
       "      <th>...</th>\n",
       "      <td>...</td>\n",
       "      <td>...</td>\n",
       "      <td>...</td>\n",
       "    </tr>\n",
       "    <tr>\n",
       "      <th>47334</th>\n",
       "      <td>do not watch this serbian documentary and serb...</td>\n",
       "      <td>negative</td>\n",
       "      <td>1</td>\n",
       "    </tr>\n",
       "    <tr>\n",
       "      <th>48079</th>\n",
       "      <td>i think that most people would agree with me i...</td>\n",
       "      <td>negative</td>\n",
       "      <td>1</td>\n",
       "    </tr>\n",
       "    <tr>\n",
       "      <th>48887</th>\n",
       "      <td>trite and unoriginal. it has / it is like some...</td>\n",
       "      <td>negative</td>\n",
       "      <td>1</td>\n",
       "    </tr>\n",
       "    <tr>\n",
       "      <th>49596</th>\n",
       "      <td>this is absolutely the best 80s cartoon ever, ...</td>\n",
       "      <td>positive</td>\n",
       "      <td>1</td>\n",
       "    </tr>\n",
       "    <tr>\n",
       "      <th>49951</th>\n",
       "      <td>\"scientists at a remote lab experiment on (ins...</td>\n",
       "      <td>negative</td>\n",
       "      <td>1</td>\n",
       "    </tr>\n",
       "  </tbody>\n",
       "</table>\n",
       "<p>121 rows × 3 columns</p>\n",
       "</div>"
      ],
      "text/plain": [
       "                                                  review sentiment  url_flags\n",
       "907    following directly from where the story left o...  positive          1\n",
       "1088   this quasi j-horror film followed a young woma...  negative          1\n",
       "1972   the basic plot of 'marigold' boasts of a roman...  negative          1\n",
       "2132   i, too, found \"oppenheimer\" to be a brilliant ...  positive          1\n",
       "3038   i really love this movie , i saw it for the fi...  positive          1\n",
       "...                                                  ...       ...        ...\n",
       "47334  do not watch this serbian documentary and serb...  negative          1\n",
       "48079  i think that most people would agree with me i...  negative          1\n",
       "48887  trite and unoriginal. it has / it is like some...  negative          1\n",
       "49596  this is absolutely the best 80s cartoon ever, ...  positive          1\n",
       "49951  \"scientists at a remote lab experiment on (ins...  negative          1\n",
       "\n",
       "[121 rows x 3 columns]"
      ]
     },
     "execution_count": 37,
     "metadata": {},
     "output_type": "execute_result"
    }
   ],
   "source": [
    "df[df[\"url_flags\"]>0]"
   ]
  },
  {
   "cell_type": "code",
   "execution_count": 38,
   "id": "f2813877",
   "metadata": {},
   "outputs": [
    {
     "data": {
      "text/plain": [
       "\"following directly from where the story left off in part one, the second half which sets about telling the inevitable downfall and much more grim side of the man's legacy is exactly as such. in direct contrast to the first feature, part two represents a shift from che the pride and glory of a revolutionised country, to che\\x97struggling liberator of a country to which he has no previous ties. the change of setting is not just aesthetic; from the autumn and spring greys of the woodlands comes a change of tone and heart to the feature, replacing the optimism of the predecessor with a cynical, battered and bruised reality aligned to an all new struggle. yet, as che would go on to say himself\\x97such a struggle is best told exactly as that\\x97a struggle. while part one certainly helped document that initial surge to power that the revolutionary guerrilla acquired through just that, part two takes a much more refined, callous and bleak segment of che has / he is life and ambition, and gives it an assertive portrayal that is both poignant and tragic in a tangible, easy to grasp manner.<br /><br />while the movie's tone in some regards does stray off and differ quite drastically from part one however, there still remains that same documented approach taken a month ago that avoids melodrama and fabrication as much as possible. this somewhat distant, cold approach to telling che has / he is story and struggle will no doubt turn some viewers off; indeed, i still remain reserved about whether or not the feature itself should have been named after one man\\x97if anything, the entirety of che, taken as a whole, delivers a tale that goes beyond mere biography and instead documents a man's struggle alongside those who helped carry him along the way. by no means does soderbergh try to paint a humanistic portrait here akin to what hirschbiegel did with der untergang half a decade ago (excuse the ironic contrast); che is a slow moving, reserved and meditative approach to telling a history lesson that just happens to be narrated by the one man who \\x96arguably- conducted the whole thing.<br /><br />yet by moving from the lush green landscapes of cuba and retreating to the bleak, decaying backdrop of bolivia for part two, the story does inevitably take on a distinctly contrasting tone that does not feel too disjointed from its predecessor, but does enough to give it its own reference points. here, the basic structure of part one is echoed back\\x97there has / there is the initial struggle, the battles, the fallen comrades and the recruiting of those to replace them, all the while we see some glimpses of the man behind the movement. yet, as anyone with the vaguest idea of the actual history behind the feature will know, part two is destined to end on a much more underwhelming, and disquieting note. this difference, in combination with the similarities to part one, make a compelling and memorable whole; by all means, both could be digested one their own (and kudos to soderbergh for achieving as such) and enjoyed as they are, but taken as one statement, che delivers exactly what it sets out to achieve.<br /><br />indeed, everything that made part one the treat that it was one month prior is still evident here from the subtle yet engrossing performances from the central cast to the slow building, realistically structured combat scenes\\x97the drama inherent to the characters on screen is just as vague and indiscernible, but with a feature such as this, part two once again proves that avoiding such elements do not necessarily hurt a film when there is enough plot and reflection on other elements to keep the viewer engaged. in fact, upon writing this review i was at odds as to whether or not to simply add a paragraph or two to my initial review for part one, and title the review as a whole, yet i felt that to do so would only serve to disillusion those who may sit down to watch the entirety of both films consecutively.<br /><br />with that said, i cannot rightfully decree whether or not che holds up to the task of engaging an audience for its sprawling four hour plus runtime, but upon viewing both segments i can at least attest to each part's ability to do just that. with a reflective, intricate screenplay combined with endlessly mesmerising photography and nuanced performances that do justice to the movie's characters without drawing attention to themselves, che part two is every bit as compelling and rewarding as its predecessor, but this time with a tragic but uplifting, reaffirming conclusion fit for the history pages of film.<br /><br />- a review by jamie robert ward (http://www.invocus.net)\""
      ]
     },
     "execution_count": 38,
     "metadata": {},
     "output_type": "execute_result"
    }
   ],
   "source": [
    "df[\"review\"][907]"
   ]
  },
  {
   "cell_type": "code",
   "execution_count": 39,
   "id": "63d84510",
   "metadata": {},
   "outputs": [
    {
     "name": "stdout",
     "output_type": "stream",
     "text": [
      "hi, thanks for watching https://youtube.com/Bloomberg\n"
     ]
    }
   ],
   "source": [
    "print(x)"
   ]
  },
  {
   "cell_type": "code",
   "execution_count": 40,
   "id": "63f391d6",
   "metadata": {},
   "outputs": [
    {
     "data": {
      "text/plain": [
       "'hi, thanks for watching '"
      ]
     },
     "execution_count": 40,
     "metadata": {},
     "output_type": "execute_result"
    }
   ],
   "source": [
    "re.sub(r'(http|https|ftp|ssh)://([\\w_-]+(?:(?:\\.[\\w_-]+)+))([\\w.,@?^=%&:/~+#-]*[\\w@?^=%&/~+#-])?', '', x)"
   ]
  },
  {
   "cell_type": "code",
   "execution_count": 41,
   "id": "9a92bbe0",
   "metadata": {},
   "outputs": [],
   "source": [
    "df[\"review\"] = df[\"review\"].apply(lambda x: re.sub(r'(http|https|ftp|ssh)://([\\w_-]+(?:(?:\\.[\\w_-]+)+))([\\w.,@?^=%&:/~+#-]*[\\w@?^=%&/~+#-])?', '', x))"
   ]
  },
  {
   "cell_type": "code",
   "execution_count": 42,
   "id": "6a83c9a3",
   "metadata": {},
   "outputs": [],
   "source": [
    "#df[\"review\"] = df[\"review\"].apply(lambda x: len(re.sub(r'(http|https|ftp|ssh)://([\\w_-]+(?:(?:\\.[\\w_-]+)+))([\\w.,@?^=%&:/~+#-]*[\\w@?^=%&/~+#-])?', '',  x)))"
   ]
  },
  {
   "cell_type": "code",
   "execution_count": 43,
   "id": "01401967",
   "metadata": {},
   "outputs": [
    {
     "data": {
      "text/html": [
       "<div>\n",
       "<style scoped>\n",
       "    .dataframe tbody tr th:only-of-type {\n",
       "        vertical-align: middle;\n",
       "    }\n",
       "\n",
       "    .dataframe tbody tr th {\n",
       "        vertical-align: top;\n",
       "    }\n",
       "\n",
       "    .dataframe thead th {\n",
       "        text-align: right;\n",
       "    }\n",
       "</style>\n",
       "<table border=\"1\" class=\"dataframe\">\n",
       "  <thead>\n",
       "    <tr style=\"text-align: right;\">\n",
       "      <th></th>\n",
       "      <th>review</th>\n",
       "      <th>sentiment</th>\n",
       "      <th>url_flags</th>\n",
       "    </tr>\n",
       "  </thead>\n",
       "  <tbody>\n",
       "    <tr>\n",
       "      <th>31950</th>\n",
       "      <td>i first saw martin's day when i was just 10 ye...</td>\n",
       "      <td>positive</td>\n",
       "      <td>0</td>\n",
       "    </tr>\n",
       "    <tr>\n",
       "      <th>37227</th>\n",
       "      <td>i can think of no movie that better captures t...</td>\n",
       "      <td>positive</td>\n",
       "      <td>0</td>\n",
       "    </tr>\n",
       "    <tr>\n",
       "      <th>446</th>\n",
       "      <td>down at the movie gallery, i saw a flick i jus...</td>\n",
       "      <td>negative</td>\n",
       "      <td>0</td>\n",
       "    </tr>\n",
       "    <tr>\n",
       "      <th>40041</th>\n",
       "      <td>do not see this movie. bad acting and stupid g...</td>\n",
       "      <td>negative</td>\n",
       "      <td>0</td>\n",
       "    </tr>\n",
       "    <tr>\n",
       "      <th>26714</th>\n",
       "      <td>i am a big mark for the music of neil young, a...</td>\n",
       "      <td>negative</td>\n",
       "      <td>0</td>\n",
       "    </tr>\n",
       "  </tbody>\n",
       "</table>\n",
       "</div>"
      ],
      "text/plain": [
       "                                                  review sentiment  url_flags\n",
       "31950  i first saw martin's day when i was just 10 ye...  positive          0\n",
       "37227  i can think of no movie that better captures t...  positive          0\n",
       "446    down at the movie gallery, i saw a flick i jus...  negative          0\n",
       "40041  do not see this movie. bad acting and stupid g...  negative          0\n",
       "26714  i am a big mark for the music of neil young, a...  negative          0"
      ]
     },
     "execution_count": 43,
     "metadata": {},
     "output_type": "execute_result"
    }
   ],
   "source": [
    "df.sample(5)"
   ]
  },
  {
   "cell_type": "code",
   "execution_count": 44,
   "id": "d40919ba",
   "metadata": {},
   "outputs": [
    {
     "data": {
      "text/plain": [
       "\"following directly from where the story left off in part one, the second half which sets about telling the inevitable downfall and much more grim side of the man's legacy is exactly as such. in direct contrast to the first feature, part two represents a shift from che the pride and glory of a revolutionised country, to che\\x97struggling liberator of a country to which he has no previous ties. the change of setting is not just aesthetic; from the autumn and spring greys of the woodlands comes a change of tone and heart to the feature, replacing the optimism of the predecessor with a cynical, battered and bruised reality aligned to an all new struggle. yet, as che would go on to say himself\\x97such a struggle is best told exactly as that\\x97a struggle. while part one certainly helped document that initial surge to power that the revolutionary guerrilla acquired through just that, part two takes a much more refined, callous and bleak segment of che has / he is life and ambition, and gives it an assertive portrayal that is both poignant and tragic in a tangible, easy to grasp manner.<br /><br />while the movie's tone in some regards does stray off and differ quite drastically from part one however, there still remains that same documented approach taken a month ago that avoids melodrama and fabrication as much as possible. this somewhat distant, cold approach to telling che has / he is story and struggle will no doubt turn some viewers off; indeed, i still remain reserved about whether or not the feature itself should have been named after one man\\x97if anything, the entirety of che, taken as a whole, delivers a tale that goes beyond mere biography and instead documents a man's struggle alongside those who helped carry him along the way. by no means does soderbergh try to paint a humanistic portrait here akin to what hirschbiegel did with der untergang half a decade ago (excuse the ironic contrast); che is a slow moving, reserved and meditative approach to telling a history lesson that just happens to be narrated by the one man who \\x96arguably- conducted the whole thing.<br /><br />yet by moving from the lush green landscapes of cuba and retreating to the bleak, decaying backdrop of bolivia for part two, the story does inevitably take on a distinctly contrasting tone that does not feel too disjointed from its predecessor, but does enough to give it its own reference points. here, the basic structure of part one is echoed back\\x97there has / there is the initial struggle, the battles, the fallen comrades and the recruiting of those to replace them, all the while we see some glimpses of the man behind the movement. yet, as anyone with the vaguest idea of the actual history behind the feature will know, part two is destined to end on a much more underwhelming, and disquieting note. this difference, in combination with the similarities to part one, make a compelling and memorable whole; by all means, both could be digested one their own (and kudos to soderbergh for achieving as such) and enjoyed as they are, but taken as one statement, che delivers exactly what it sets out to achieve.<br /><br />indeed, everything that made part one the treat that it was one month prior is still evident here from the subtle yet engrossing performances from the central cast to the slow building, realistically structured combat scenes\\x97the drama inherent to the characters on screen is just as vague and indiscernible, but with a feature such as this, part two once again proves that avoiding such elements do not necessarily hurt a film when there is enough plot and reflection on other elements to keep the viewer engaged. in fact, upon writing this review i was at odds as to whether or not to simply add a paragraph or two to my initial review for part one, and title the review as a whole, yet i felt that to do so would only serve to disillusion those who may sit down to watch the entirety of both films consecutively.<br /><br />with that said, i cannot rightfully decree whether or not che holds up to the task of engaging an audience for its sprawling four hour plus runtime, but upon viewing both segments i can at least attest to each part's ability to do just that. with a reflective, intricate screenplay combined with endlessly mesmerising photography and nuanced performances that do justice to the movie's characters without drawing attention to themselves, che part two is every bit as compelling and rewarding as its predecessor, but this time with a tragic but uplifting, reaffirming conclusion fit for the history pages of film.<br /><br />- a review by jamie robert ward ()\""
      ]
     },
     "execution_count": 44,
     "metadata": {},
     "output_type": "execute_result"
    }
   ],
   "source": [
    "df[\"review\"][907]"
   ]
  },
  {
   "cell_type": "markdown",
   "id": "4eedef94",
   "metadata": {},
   "source": [
    "**5. Special Chars Removal or Punctuation Removal**"
   ]
  },
  {
   "cell_type": "code",
   "execution_count": 45,
   "id": "2f093f16",
   "metadata": {},
   "outputs": [],
   "source": [
    "x = \"legacy is exactly as such. in direct contrast to the first feature, part two represents a shift from che the pride and glory of a revolutionised country, to che\\x97struggling liberator of a country to which he has no previous ties.\""
   ]
  },
  {
   "cell_type": "code",
   "execution_count": 46,
   "id": "a11d8677",
   "metadata": {},
   "outputs": [
    {
     "data": {
      "text/plain": [
       "'legacy is exactly as such in direct contrast to the first feature part two represents a shift from che the pride and glory of a revolutionised country to chestruggling liberator of a country to which he has no previous ties'"
      ]
     },
     "execution_count": 46,
     "metadata": {},
     "output_type": "execute_result"
    }
   ],
   "source": [
    "re.sub(r'[^\\w ]+', \"\",x)"
   ]
  },
  {
   "cell_type": "code",
   "execution_count": 47,
   "id": "76b5fe74",
   "metadata": {},
   "outputs": [],
   "source": [
    "df[\"review\"] = df[\"review\"].apply(lambda x: re.sub(r'[^\\w ]+', \"\",x))"
   ]
  },
  {
   "cell_type": "code",
   "execution_count": 48,
   "id": "4219a40e",
   "metadata": {},
   "outputs": [
    {
     "data": {
      "text/html": [
       "<div>\n",
       "<style scoped>\n",
       "    .dataframe tbody tr th:only-of-type {\n",
       "        vertical-align: middle;\n",
       "    }\n",
       "\n",
       "    .dataframe tbody tr th {\n",
       "        vertical-align: top;\n",
       "    }\n",
       "\n",
       "    .dataframe thead th {\n",
       "        text-align: right;\n",
       "    }\n",
       "</style>\n",
       "<table border=\"1\" class=\"dataframe\">\n",
       "  <thead>\n",
       "    <tr style=\"text-align: right;\">\n",
       "      <th></th>\n",
       "      <th>review</th>\n",
       "      <th>sentiment</th>\n",
       "      <th>url_flags</th>\n",
       "    </tr>\n",
       "  </thead>\n",
       "  <tbody>\n",
       "    <tr>\n",
       "      <th>31355</th>\n",
       "      <td>i liked this show from the first episode i saw...</td>\n",
       "      <td>positive</td>\n",
       "      <td>0</td>\n",
       "    </tr>\n",
       "    <tr>\n",
       "      <th>24884</th>\n",
       "      <td>i have seen this movie and even though i kind ...</td>\n",
       "      <td>positive</td>\n",
       "      <td>0</td>\n",
       "    </tr>\n",
       "    <tr>\n",
       "      <th>22558</th>\n",
       "      <td>the sun was not shining it was too wet to play...</td>\n",
       "      <td>negative</td>\n",
       "      <td>0</td>\n",
       "    </tr>\n",
       "    <tr>\n",
       "      <th>2526</th>\n",
       "      <td>well this was my first imax experience so i wa...</td>\n",
       "      <td>negative</td>\n",
       "      <td>0</td>\n",
       "    </tr>\n",
       "    <tr>\n",
       "      <th>41948</th>\n",
       "      <td>this is one of those movies where the acting s...</td>\n",
       "      <td>negative</td>\n",
       "      <td>0</td>\n",
       "    </tr>\n",
       "  </tbody>\n",
       "</table>\n",
       "</div>"
      ],
      "text/plain": [
       "                                                  review sentiment  url_flags\n",
       "31355  i liked this show from the first episode i saw...  positive          0\n",
       "24884  i have seen this movie and even though i kind ...  positive          0\n",
       "22558  the sun was not shining it was too wet to play...  negative          0\n",
       "2526   well this was my first imax experience so i wa...  negative          0\n",
       "41948  this is one of those movies where the acting s...  negative          0"
      ]
     },
     "execution_count": 48,
     "metadata": {},
     "output_type": "execute_result"
    }
   ],
   "source": [
    "df.sample(5)"
   ]
  },
  {
   "cell_type": "code",
   "execution_count": 49,
   "id": "c4fe5f6f",
   "metadata": {},
   "outputs": [
    {
     "data": {
      "text/html": [
       "<div>\n",
       "<style scoped>\n",
       "    .dataframe tbody tr th:only-of-type {\n",
       "        vertical-align: middle;\n",
       "    }\n",
       "\n",
       "    .dataframe tbody tr th {\n",
       "        vertical-align: top;\n",
       "    }\n",
       "\n",
       "    .dataframe thead th {\n",
       "        text-align: right;\n",
       "    }\n",
       "</style>\n",
       "<table border=\"1\" class=\"dataframe\">\n",
       "  <thead>\n",
       "    <tr style=\"text-align: right;\">\n",
       "      <th></th>\n",
       "      <th>review</th>\n",
       "      <th>sentiment</th>\n",
       "      <th>url_flags</th>\n",
       "    </tr>\n",
       "  </thead>\n",
       "  <tbody>\n",
       "    <tr>\n",
       "      <th>0</th>\n",
       "      <td>one of the other reviewers has mentioned that ...</td>\n",
       "      <td>positive</td>\n",
       "      <td>0</td>\n",
       "    </tr>\n",
       "    <tr>\n",
       "      <th>1</th>\n",
       "      <td>a wonderful little production br br the filmin...</td>\n",
       "      <td>positive</td>\n",
       "      <td>0</td>\n",
       "    </tr>\n",
       "    <tr>\n",
       "      <th>2</th>\n",
       "      <td>i thought this was a wonderful way to spend ti...</td>\n",
       "      <td>positive</td>\n",
       "      <td>0</td>\n",
       "    </tr>\n",
       "    <tr>\n",
       "      <th>3</th>\n",
       "      <td>basically there has  there is a family where a...</td>\n",
       "      <td>negative</td>\n",
       "      <td>0</td>\n",
       "    </tr>\n",
       "    <tr>\n",
       "      <th>4</th>\n",
       "      <td>petter matteis love in the time of money is a ...</td>\n",
       "      <td>positive</td>\n",
       "      <td>0</td>\n",
       "    </tr>\n",
       "  </tbody>\n",
       "</table>\n",
       "</div>"
      ],
      "text/plain": [
       "                                              review sentiment  url_flags\n",
       "0  one of the other reviewers has mentioned that ...  positive          0\n",
       "1  a wonderful little production br br the filmin...  positive          0\n",
       "2  i thought this was a wonderful way to spend ti...  positive          0\n",
       "3  basically there has  there is a family where a...  negative          0\n",
       "4  petter matteis love in the time of money is a ...  positive          0"
      ]
     },
     "execution_count": 49,
     "metadata": {},
     "output_type": "execute_result"
    }
   ],
   "source": [
    "df.head()"
   ]
  },
  {
   "cell_type": "code",
   "execution_count": 50,
   "id": "19d5356a",
   "metadata": {},
   "outputs": [
    {
     "data": {
      "text/plain": [
       "'a wonderful little production br br the filming technique is very unassuming very oldtimebbc fashion and gives a comforting and sometimes discomforting sense of realism to the entire piece br br the actors are extremely well chosen michael sheen not only has got all the polari but he has all the voices down pat too you can truly see the seamless editing guided by the references to williams diary entries not only is it well worth the watching but it is a terrificly written and performed piece a masterful production about one of the great masters of comedy and his life br br the realism really comes home with the little things the fantasy of the guard which rather than use the traditional dream techniques remains solid then disappears it plays on our knowledge and our senses particularly with the scenes concerning orton and halliwell and the sets particularly of their flat with halliwells murals decorating every surface are terribly well done'"
      ]
     },
     "execution_count": 50,
     "metadata": {},
     "output_type": "execute_result"
    }
   ],
   "source": [
    "df[\"review\"][1]"
   ]
  },
  {
   "cell_type": "markdown",
   "id": "9c7b0a8c",
   "metadata": {},
   "source": [
    "**6. Remove Multiple Spaces** "
   ]
  },
  {
   "cell_type": "code",
   "execution_count": 51,
   "id": "ce1dc293",
   "metadata": {},
   "outputs": [],
   "source": [
    "x = \"hi    hello how are  you\""
   ]
  },
  {
   "cell_type": "code",
   "execution_count": 52,
   "id": "c5ab447b",
   "metadata": {},
   "outputs": [
    {
     "data": {
      "text/plain": [
       "'hi hello how are you'"
      ]
     },
     "execution_count": 52,
     "metadata": {},
     "output_type": "execute_result"
    }
   ],
   "source": [
    "' '.join(x.split())"
   ]
  },
  {
   "cell_type": "code",
   "execution_count": 53,
   "id": "235813dc",
   "metadata": {},
   "outputs": [],
   "source": [
    "df[\"review\"] = df[\"review\"].apply(lambda x: ' '.join(x.split()))"
   ]
  },
  {
   "cell_type": "code",
   "execution_count": 54,
   "id": "20b53387",
   "metadata": {},
   "outputs": [
    {
     "data": {
      "text/html": [
       "<div>\n",
       "<style scoped>\n",
       "    .dataframe tbody tr th:only-of-type {\n",
       "        vertical-align: middle;\n",
       "    }\n",
       "\n",
       "    .dataframe tbody tr th {\n",
       "        vertical-align: top;\n",
       "    }\n",
       "\n",
       "    .dataframe thead th {\n",
       "        text-align: right;\n",
       "    }\n",
       "</style>\n",
       "<table border=\"1\" class=\"dataframe\">\n",
       "  <thead>\n",
       "    <tr style=\"text-align: right;\">\n",
       "      <th></th>\n",
       "      <th>review</th>\n",
       "      <th>sentiment</th>\n",
       "      <th>url_flags</th>\n",
       "    </tr>\n",
       "  </thead>\n",
       "  <tbody>\n",
       "    <tr>\n",
       "      <th>0</th>\n",
       "      <td>one of the other reviewers has mentioned that ...</td>\n",
       "      <td>positive</td>\n",
       "      <td>0</td>\n",
       "    </tr>\n",
       "    <tr>\n",
       "      <th>1</th>\n",
       "      <td>a wonderful little production br br the filmin...</td>\n",
       "      <td>positive</td>\n",
       "      <td>0</td>\n",
       "    </tr>\n",
       "    <tr>\n",
       "      <th>2</th>\n",
       "      <td>i thought this was a wonderful way to spend ti...</td>\n",
       "      <td>positive</td>\n",
       "      <td>0</td>\n",
       "    </tr>\n",
       "    <tr>\n",
       "      <th>3</th>\n",
       "      <td>basically there has there is a family where a ...</td>\n",
       "      <td>negative</td>\n",
       "      <td>0</td>\n",
       "    </tr>\n",
       "    <tr>\n",
       "      <th>4</th>\n",
       "      <td>petter matteis love in the time of money is a ...</td>\n",
       "      <td>positive</td>\n",
       "      <td>0</td>\n",
       "    </tr>\n",
       "  </tbody>\n",
       "</table>\n",
       "</div>"
      ],
      "text/plain": [
       "                                              review sentiment  url_flags\n",
       "0  one of the other reviewers has mentioned that ...  positive          0\n",
       "1  a wonderful little production br br the filmin...  positive          0\n",
       "2  i thought this was a wonderful way to spend ti...  positive          0\n",
       "3  basically there has there is a family where a ...  negative          0\n",
       "4  petter matteis love in the time of money is a ...  positive          0"
      ]
     },
     "execution_count": 54,
     "metadata": {},
     "output_type": "execute_result"
    }
   ],
   "source": [
    "df.head()"
   ]
  },
  {
   "cell_type": "code",
   "execution_count": 55,
   "id": "a3c17595",
   "metadata": {},
   "outputs": [
    {
     "data": {
      "text/html": [
       "<div>\n",
       "<style scoped>\n",
       "    .dataframe tbody tr th:only-of-type {\n",
       "        vertical-align: middle;\n",
       "    }\n",
       "\n",
       "    .dataframe tbody tr th {\n",
       "        vertical-align: top;\n",
       "    }\n",
       "\n",
       "    .dataframe thead th {\n",
       "        text-align: right;\n",
       "    }\n",
       "</style>\n",
       "<table border=\"1\" class=\"dataframe\">\n",
       "  <thead>\n",
       "    <tr style=\"text-align: right;\">\n",
       "      <th></th>\n",
       "      <th>review</th>\n",
       "      <th>sentiment</th>\n",
       "    </tr>\n",
       "  </thead>\n",
       "  <tbody>\n",
       "    <tr>\n",
       "      <th>0</th>\n",
       "      <td>one of the other reviewers has mentioned that ...</td>\n",
       "      <td>positive</td>\n",
       "    </tr>\n",
       "    <tr>\n",
       "      <th>1</th>\n",
       "      <td>a wonderful little production br br the filmin...</td>\n",
       "      <td>positive</td>\n",
       "    </tr>\n",
       "  </tbody>\n",
       "</table>\n",
       "</div>"
      ],
      "text/plain": [
       "                                              review sentiment\n",
       "0  one of the other reviewers has mentioned that ...  positive\n",
       "1  a wonderful little production br br the filmin...  positive"
      ]
     },
     "execution_count": 55,
     "metadata": {},
     "output_type": "execute_result"
    }
   ],
   "source": [
    "df.drop(\"url_flags\", axis=1, inplace=True)\n",
    "df.head(2)"
   ]
  },
  {
   "cell_type": "markdown",
   "id": "1f079784",
   "metadata": {},
   "source": [
    "**7. Remove HTML Tags**"
   ]
  },
  {
   "cell_type": "code",
   "execution_count": 56,
   "id": "e37d2826",
   "metadata": {},
   "outputs": [
    {
     "name": "stdout",
     "output_type": "stream",
     "text": [
      "Requirement already satisfied: beautifulsoup4 in c:\\users\\admin\\anaconda3\\lib\\site-packages (4.11.1)\n",
      "Requirement already satisfied: soupsieve>1.2 in c:\\users\\admin\\anaconda3\\lib\\site-packages (from beautifulsoup4) (2.3.1)\n"
     ]
    }
   ],
   "source": [
    "!pip install beautifulsoup4"
   ]
  },
  {
   "cell_type": "code",
   "execution_count": 57,
   "id": "432d58a4",
   "metadata": {},
   "outputs": [],
   "source": [
    "from bs4 import BeautifulSoup"
   ]
  },
  {
   "cell_type": "code",
   "execution_count": 58,
   "id": "99ce8fa6",
   "metadata": {},
   "outputs": [],
   "source": [
    "x = '<html><h1> thanks for watching <h1><html>'"
   ]
  },
  {
   "cell_type": "code",
   "execution_count": 59,
   "id": "4d672153",
   "metadata": {},
   "outputs": [
    {
     "data": {
      "text/plain": [
       "'thanks for watching'"
      ]
     },
     "execution_count": 59,
     "metadata": {},
     "output_type": "execute_result"
    }
   ],
   "source": [
    "BeautifulSoup (x, \"lxml\").get_text().strip()"
   ]
  },
  {
   "cell_type": "code",
   "execution_count": 60,
   "id": "f19c89d4",
   "metadata": {},
   "outputs": [],
   "source": [
    "df[\"review\"] = df[\"review\"].apply(lambda x: BeautifulSoup (x, \"lxml\").get_text().strip())"
   ]
  },
  {
   "cell_type": "code",
   "execution_count": 61,
   "id": "ad1b4455",
   "metadata": {},
   "outputs": [
    {
     "data": {
      "text/html": [
       "<div>\n",
       "<style scoped>\n",
       "    .dataframe tbody tr th:only-of-type {\n",
       "        vertical-align: middle;\n",
       "    }\n",
       "\n",
       "    .dataframe tbody tr th {\n",
       "        vertical-align: top;\n",
       "    }\n",
       "\n",
       "    .dataframe thead th {\n",
       "        text-align: right;\n",
       "    }\n",
       "</style>\n",
       "<table border=\"1\" class=\"dataframe\">\n",
       "  <thead>\n",
       "    <tr style=\"text-align: right;\">\n",
       "      <th></th>\n",
       "      <th>review</th>\n",
       "      <th>sentiment</th>\n",
       "    </tr>\n",
       "  </thead>\n",
       "  <tbody>\n",
       "    <tr>\n",
       "      <th>0</th>\n",
       "      <td>one of the other reviewers has mentioned that ...</td>\n",
       "      <td>positive</td>\n",
       "    </tr>\n",
       "    <tr>\n",
       "      <th>1</th>\n",
       "      <td>a wonderful little production br br the filmin...</td>\n",
       "      <td>positive</td>\n",
       "    </tr>\n",
       "    <tr>\n",
       "      <th>2</th>\n",
       "      <td>i thought this was a wonderful way to spend ti...</td>\n",
       "      <td>positive</td>\n",
       "    </tr>\n",
       "    <tr>\n",
       "      <th>3</th>\n",
       "      <td>basically there has there is a family where a ...</td>\n",
       "      <td>negative</td>\n",
       "    </tr>\n",
       "    <tr>\n",
       "      <th>4</th>\n",
       "      <td>petter matteis love in the time of money is a ...</td>\n",
       "      <td>positive</td>\n",
       "    </tr>\n",
       "  </tbody>\n",
       "</table>\n",
       "</div>"
      ],
      "text/plain": [
       "                                              review sentiment\n",
       "0  one of the other reviewers has mentioned that ...  positive\n",
       "1  a wonderful little production br br the filmin...  positive\n",
       "2  i thought this was a wonderful way to spend ti...  positive\n",
       "3  basically there has there is a family where a ...  negative\n",
       "4  petter matteis love in the time of money is a ...  positive"
      ]
     },
     "execution_count": 61,
     "metadata": {},
     "output_type": "execute_result"
    }
   ],
   "source": [
    "df.head(5)"
   ]
  },
  {
   "cell_type": "markdown",
   "id": "b3948712",
   "metadata": {},
   "source": [
    "**8. Remove Accented Charts**"
   ]
  },
  {
   "cell_type": "code",
   "execution_count": 62,
   "id": "784abf52",
   "metadata": {},
   "outputs": [],
   "source": [
    "x = \"rappé, naïve, soufflé\""
   ]
  },
  {
   "cell_type": "code",
   "execution_count": 63,
   "id": "9ce6fc2f",
   "metadata": {},
   "outputs": [],
   "source": [
    "import unicodedata"
   ]
  },
  {
   "cell_type": "code",
   "execution_count": 64,
   "id": "0f98b7c8",
   "metadata": {},
   "outputs": [],
   "source": [
    "def remove_accented_chars(x):\n",
    "    x = unicodedata.normalize(\"NFKD\", x).encode(\"ascii\",\"ignore\").decode(\"utf-8\", \"ignore\")\n",
    "    return x"
   ]
  },
  {
   "cell_type": "code",
   "execution_count": 65,
   "id": "303be38b",
   "metadata": {},
   "outputs": [
    {
     "data": {
      "text/plain": [
       "'rappe, naive, souffle'"
      ]
     },
     "execution_count": 65,
     "metadata": {},
     "output_type": "execute_result"
    }
   ],
   "source": [
    "remove_accented_chars(x)"
   ]
  },
  {
   "cell_type": "code",
   "execution_count": 66,
   "id": "e2d28d84",
   "metadata": {},
   "outputs": [],
   "source": [
    "df[\"review\"] = df[\"review\"].apply(lambda x: remove_accented_chars(x))"
   ]
  },
  {
   "cell_type": "code",
   "execution_count": 67,
   "id": "b8a7cd01",
   "metadata": {},
   "outputs": [
    {
     "data": {
      "text/html": [
       "<div>\n",
       "<style scoped>\n",
       "    .dataframe tbody tr th:only-of-type {\n",
       "        vertical-align: middle;\n",
       "    }\n",
       "\n",
       "    .dataframe tbody tr th {\n",
       "        vertical-align: top;\n",
       "    }\n",
       "\n",
       "    .dataframe thead th {\n",
       "        text-align: right;\n",
       "    }\n",
       "</style>\n",
       "<table border=\"1\" class=\"dataframe\">\n",
       "  <thead>\n",
       "    <tr style=\"text-align: right;\">\n",
       "      <th></th>\n",
       "      <th>review</th>\n",
       "      <th>sentiment</th>\n",
       "    </tr>\n",
       "  </thead>\n",
       "  <tbody>\n",
       "    <tr>\n",
       "      <th>0</th>\n",
       "      <td>one of the other reviewers has mentioned that ...</td>\n",
       "      <td>positive</td>\n",
       "    </tr>\n",
       "    <tr>\n",
       "      <th>1</th>\n",
       "      <td>a wonderful little production br br the filmin...</td>\n",
       "      <td>positive</td>\n",
       "    </tr>\n",
       "    <tr>\n",
       "      <th>2</th>\n",
       "      <td>i thought this was a wonderful way to spend ti...</td>\n",
       "      <td>positive</td>\n",
       "    </tr>\n",
       "    <tr>\n",
       "      <th>3</th>\n",
       "      <td>basically there has there is a family where a ...</td>\n",
       "      <td>negative</td>\n",
       "    </tr>\n",
       "    <tr>\n",
       "      <th>4</th>\n",
       "      <td>petter matteis love in the time of money is a ...</td>\n",
       "      <td>positive</td>\n",
       "    </tr>\n",
       "  </tbody>\n",
       "</table>\n",
       "</div>"
      ],
      "text/plain": [
       "                                              review sentiment\n",
       "0  one of the other reviewers has mentioned that ...  positive\n",
       "1  a wonderful little production br br the filmin...  positive\n",
       "2  i thought this was a wonderful way to spend ti...  positive\n",
       "3  basically there has there is a family where a ...  negative\n",
       "4  petter matteis love in the time of money is a ...  positive"
      ]
     },
     "execution_count": 67,
     "metadata": {},
     "output_type": "execute_result"
    }
   ],
   "source": [
    "df.head()"
   ]
  },
  {
   "cell_type": "markdown",
   "id": "345b73c2",
   "metadata": {},
   "source": [
    "**9. Removing StopWords**"
   ]
  },
  {
   "cell_type": "code",
   "execution_count": 68,
   "id": "ccdddec8",
   "metadata": {},
   "outputs": [],
   "source": [
    "# Stop words Removal\n",
    "import nltk\n",
    "from nltk.corpus import stopwords"
   ]
  },
  {
   "cell_type": "code",
   "execution_count": 69,
   "id": "b90fe1c3",
   "metadata": {},
   "outputs": [
    {
     "name": "stdout",
     "output_type": "stream",
     "text": [
      "{'d', 'mightn', 'being', 'while', 'or', 'couldn', \"wasn't\", \"doesn't\", 'because', 'doesn', 'just', \"it's\", \"you'll\", 'mustn', 'shan', 'its', 'same', 'more', 'down', 'yourselves', 'shouldn', 'be', 'then', 'wasn', 'm', 'again', 'yours', \"won't\", \"weren't\", 'do', 've', 'so', 'from', 'some', 'an', \"couldn't\", 'did', 'will', 'all', 'than', 'have', 'into', 'theirs', 'that', 'out', 'haven', 're', 'those', \"mightn't\", 'can', 'them', \"don't\", 'other', 'she', \"you've\", 'any', 'o', 'the', 'on', 'does', 'own', 'isn', 'and', \"haven't\", \"hadn't\", 'there', 'himself', \"shan't\", 'these', 'weren', 'under', 'having', 'doing', 'was', 'such', 'what', 'as', 'our', 'wouldn', 'he', \"needn't\", 'i', 'their', 'at', 'my', 'after', \"shouldn't\", 'before', 'aren', 'both', 'no', 'in', 'needn', \"you'd\", 'is', 'your', 'only', 'll', 'ourselves', 't', 'itself', 'should', 'about', 'you', 'don', 'are', 'between', \"that'll\", \"aren't\", 'against', 'by', \"she's\", 'with', \"isn't\", 'we', 'over', 'him', 'not', 'has', 'y', 'hadn', 'who', 'through', 'yourself', 'this', 's', \"wouldn't\", 'been', 'whom', 'it', 'of', 'ain', 'where', 'me', 'ours', 'most', 'once', 'during', 'hers', 'how', 'too', 'off', 'few', 'they', 'if', 'had', \"hasn't\", 'themselves', \"you're\", \"should've\", 'hasn', 'each', 'ma', 'but', 'nor', 'her', 'very', 'up', 'were', 'until', 'further', 'when', \"mustn't\", 'here', 'myself', 'his', 'which', 'below', 'for', 'above', 'didn', 'a', \"didn't\", 'why', 'am', 'now', 'to', 'won', 'herself'}\n"
     ]
    }
   ],
   "source": [
    "nltk_stopwords = set(stopwords.words('english'))\n",
    "print(nltk_stopwords)"
   ]
  },
  {
   "cell_type": "code",
   "execution_count": 70,
   "id": "587e4ac1",
   "metadata": {},
   "outputs": [
    {
     "data": {
      "text/plain": [
       "179"
      ]
     },
     "execution_count": 70,
     "metadata": {},
     "output_type": "execute_result"
    }
   ],
   "source": [
    "len(nltk_stopwords)"
   ]
  },
  {
   "cell_type": "code",
   "execution_count": 71,
   "id": "0e3cca38",
   "metadata": {},
   "outputs": [
    {
     "name": "stdout",
     "output_type": "stream",
     "text": [
      "{'hereupon', 'beforehand', 'take', 'top', 'wherever', 'being', 'behind', 'onto', 'next', 'via', 'otherwise', 'becomes', 'couldnt', 'less', 'hasnt', 'elsewhere', 'together', 'rather', 'twenty', 'its', 'mine', 'within', 'sincere', 'something', 'others', 'six', 'yourselves', 'be', 'us', 'yours', 'last', 'sometimes', 'thru', 'thus', 'do', 'side', 'so', 'either', 'an', 'all', 'have', 'already', 'although', 'least', 'that', 'out', 're', 'can', 'mill', 'move', 'nowhere', 'everyone', 'other', 'four', 'any', 'thick', 'much', 'however', 'never', 'formerly', 'perhaps', 'former', 'always', 'eleven', 'beside', 'since', 'mostly', 'there', 'himself', 'whether', 'found', 'ltd', 'under', 'what', 'somewhere', 'per', 'our', 'i', 'interest', 'amoungst', 'at', 'anyhow', 'system', 'sixty', 'detail', 'after', 'enough', 'both', 'across', 'no', 'somehow', 'indeed', 'only', 'amongst', 'your', 'wherein', 'please', 'about', 'you', 'herein', 'against', 'by', 'with', 'several', 'whereas', 'anywhere', 'him', 'many', 'becoming', 'this', 'describe', 'it', 'nothing', 'of', 'where', 'though', 'most', 'once', 'during', 'co', 'one', 'how', 'eg', 'too', 'empty', 'few', 'thereafter', 'thin', 'call', 'except', 'name', 'each', 'but', 'her', 'very', 'besides', 'up', 'without', 'fifteen', 'until', 'when', 'therefore', 'among', 'along', 'here', 'which', 'thereby', 'neither', 'for', 'above', 'whole', 'serious', 'hence', 'nine', 'meanwhile', 'must', 'why', 'now', 'full', 'show', 'to', 'herself', 'keep', 'put', 'else', 'while', 'thereupon', 'upon', 'might', 'or', 'latterly', 'seems', 'therein', 'anyway', 'because', 'still', 'none', 'due', 'hundred', 'part', 'con', 'etc', 'thence', 'same', 'cry', 'more', 'front', 'namely', 'down', 'then', 'made', 'ten', 'everywhere', 'yet', 'again', 'hereby', 'seemed', 'could', 'seem', 'afterwards', 'from', 'twelve', 'even', 'some', 'sometime', 'nevertheless', 'will', 'than', 'into', 'those', 'two', 'them', 'would', 'she', 'may', 'latter', 'the', 'on', 'own', 'towards', 'and', 'find', 'almost', 'these', 'beyond', 'such', 'three', 'was', 'whereafter', 'as', 'hereafter', 'became', 'he', 'cant', 'whenever', 'their', 'my', 'whereupon', 'un', 'eight', 'third', 'alone', 'before', 'also', 'well', 'noone', 'whence', 'in', 'done', 'is', 'back', 'ourselves', 'itself', 'should', 'whose', 'five', 'are', 'between', 'fill', 'give', 'we', 'over', 'not', 'everything', 'first', 'has', 'who', 'through', 'throughout', 'yourself', 'every', 'bottom', 'bill', 'been', 'whom', 'moreover', 'see', 'me', 'cannot', 'fifty', 'ours', 'toward', 'nobody', 'another', 'ie', 'whoever', 'hers', 'often', 'get', 'off', 'fire', 'seeming', 'amount', 'if', 'they', 'had', 'become', 'themselves', 'someone', 'ever', 'de', 'around', 'go', 'nor', 'forty', 'whereby', 'were', 'further', 'myself', 'his', 'below', 'a', 'anyone', 'anything', 'am', 'whatever', 'whither', 'inc'}\n"
     ]
    }
   ],
   "source": [
    "from sklearn.feature_extraction.text import ENGLISH_STOP_WORDS\n",
    "sklearn_stopwords = set(ENGLISH_STOP_WORDS)\n",
    "print(sklearn_stopwords)"
   ]
  },
  {
   "cell_type": "code",
   "execution_count": 72,
   "id": "fcf4f328",
   "metadata": {},
   "outputs": [
    {
     "data": {
      "text/plain": [
       "318"
      ]
     },
     "execution_count": 72,
     "metadata": {},
     "output_type": "execute_result"
    }
   ],
   "source": [
    "len(sklearn_stopwords)"
   ]
  },
  {
   "cell_type": "code",
   "execution_count": 73,
   "id": "8ccfd218",
   "metadata": {},
   "outputs": [
    {
     "name": "stdout",
     "output_type": "stream",
     "text": [
      "{'being', 'while', 'or', 'because', 'its', 'same', 'more', 'down', 'yourselves', 'be', 'then', 'again', 'yours', 'do', 'so', 'from', 'some', 'an', 'will', 'all', 'than', 'have', 'into', 'that', 'out', 're', 'those', 'can', 'them', 'other', 'she', 'any', 'the', 'on', 'own', 'and', 'there', 'himself', 'these', 'under', 'such', 'was', 'what', 'as', 'our', 'he', 'i', 'their', 'at', 'my', 'after', 'before', 'both', 'no', 'in', 'is', 'your', 'only', 'ourselves', 'should', 'itself', 'about', 'you', 'are', 'between', 'against', 'by', 'with', 'we', 'over', 'him', 'not', 'has', 'who', 'through', 'yourself', 'this', 'been', 'whom', 'it', 'of', 'where', 'me', 'ours', 'most', 'once', 'during', 'hers', 'how', 'too', 'off', 'few', 'they', 'if', 'had', 'themselves', 'each', 'but', 'nor', 'her', 'very', 'up', 'were', 'until', 'further', 'when', 'here', 'myself', 'his', 'which', 'below', 'for', 'above', 'a', 'why', 'am', 'now', 'to', 'herself'}\n"
     ]
    }
   ],
   "source": [
    "# Find the common stopwords from NLTK & sklearn\n",
    "commom_stopwords = nltk_stopwords.intersection(sklearn_stopwords)\n",
    "print(commom_stopwords)"
   ]
  },
  {
   "cell_type": "code",
   "execution_count": 74,
   "id": "c9fcc4eb",
   "metadata": {},
   "outputs": [
    {
     "data": {
      "text/plain": [
       "119"
      ]
     },
     "execution_count": 74,
     "metadata": {},
     "output_type": "execute_result"
    }
   ],
   "source": [
    "len(commom_stopwords)"
   ]
  },
  {
   "cell_type": "code",
   "execution_count": 75,
   "id": "311037d5",
   "metadata": {},
   "outputs": [
    {
     "name": "stdout",
     "output_type": "stream",
     "text": [
      "{'hereupon', 'beforehand', 'take', 'd', 'mightn', 'top', 'wherever', 'being', 'behind', 'onto', 'couldn', 'next', 'via', 'otherwise', 'becomes', 'couldnt', \"it's\", 'less', \"you'll\", 'mustn', 'hasnt', 'shan', 'elsewhere', 'together', 'rather', 'twenty', 'its', 'mine', 'within', 'sincere', 'something', 'others', 'yourselves', 'six', 'be', 'wasn', 'us', 'yours', \"weren't\", 'last', 'sometimes', 'thru', 'do', 've', 'so', 'thus', 'side', 'either', 'an', 'all', 'have', 'already', 'although', 'least', 'that', 'out', 're', 'can', 'mill', 'move', 'nowhere', \"don't\", 'everyone', 'other', 'four', 'any', 'o', 'thick', 'much', 'however', 'never', 'formerly', 'perhaps', 'former', 'always', 'eleven', 'beside', 'since', \"hadn't\", 'there', 'himself', 'mostly', 'whether', \"shan't\", 'found', 'ltd', 'under', 'having', 'what', 'somewhere', 'per', 'our', 'wouldn', \"needn't\", 'i', 'interest', 'amoungst', 'at', 'anyhow', 'system', 'sixty', 'detail', 'after', 'enough', 'aren', 'both', 'across', 'no', 'needn', 'somehow', 'your', 'only', 'indeed', 't', 'amongst', 'wherein', 'please', 'about', 'you', \"shouldn't\", 'herein', \"that'll\", 'against', 'by', \"she's\", 'with', \"isn't\", 'several', 'whereas', 'anywhere', 'him', 'many', 'becoming', 'this', 'describe', 'it', 'of', 'ain', 'nothing', 'where', 'though', 'most', 'once', 'during', 'co', 'how', 'too', 'one', 'eg', 'empty', 'few', 'thereafter', \"hasn't\", 'thin', 'call', \"you're\", 'hasn', 'ma', 'each', 'except', 'name', 'but', 'her', 'very', 'besides', 'up', 'without', 'fifteen', 'until', 'when', 'therefore', 'among', 'here', 'along', 'which', 'thereby', 'neither', 'for', 'above', 'whole', 'serious', 'didn', 'hence', 'nine', 'meanwhile', 'must', 'why', 'now', 'full', 'to', 'show', 'herself', 'keep', 'put', 'else', 'while', 'thereupon', 'upon', 'might', 'or', 'latterly', \"wasn't\", 'seems', \"doesn't\", 'therein', 'anyway', 'because', 'doesn', 'still', 'none', 'due', 'hundred', 'just', 'part', 'con', 'etc', 'thence', 'same', 'cry', 'more', 'down', 'front', 'shouldn', 'namely', 'then', 'made', 'ten', 'everywhere', 'yet', 'm', 'again', \"won't\", 'hereby', 'seemed', 'could', 'seem', 'afterwards', 'from', 'twelve', 'some', 'even', \"couldn't\", 'did', 'sometime', 'nevertheless', 'will', 'than', 'into', 'theirs', 'haven', 'those', \"mightn't\", 'two', 'them', 'would', 'she', \"you've\", 'may', 'latter', 'the', 'on', 'does', 'own', 'isn', 'and', \"haven't\", 'towards', 'find', 'almost', 'these', 'beyond', 'weren', 'doing', 'was', 'such', 'three', 'whereafter', 'as', 'hereafter', 'became', 'he', 'cant', 'whenever', 'their', 'my', 'whereupon', 'un', 'eight', 'third', 'alone', 'before', 'also', 'well', 'noone', 'whence', 'in', \"you'd\", 'is', 'done', 'll', 'ourselves', 'should', 'itself', 'back', 'whose', 'don', 'five', 'are', 'between', \"aren't\", 'fill', 'give', 'we', 'over', 'not', 'everything', 'has', 'first', 'y', 'hadn', 'who', 'through', 'throughout', 'yourself', 's', \"wouldn't\", 'every', 'bottom', 'bill', 'been', 'whom', 'moreover', 'see', 'me', 'ours', 'cannot', 'fifty', 'toward', 'nobody', 'another', 'ie', 'hers', 'whoever', 'often', 'get', 'off', 'fire', 'seeming', 'they', 'if', 'amount', 'had', 'become', 'themselves', 'someone', \"should've\", 'ever', 'de', 'around', 'go', 'nor', 'forty', 'whereby', 'were', 'further', \"mustn't\", 'myself', 'his', 'below', 'a', 'anyone', \"didn't\", 'won', 'am', 'anything', 'whatever', 'whither', 'inc'}\n"
     ]
    }
   ],
   "source": [
    "# Combining the stopwords from sklearn & NLTK\n",
    "combined_stopwords = nltk_stopwords.union(sklearn_stopwords)\n",
    "print(combined_stopwords)"
   ]
  },
  {
   "cell_type": "code",
   "execution_count": 76,
   "id": "b3e44d50",
   "metadata": {},
   "outputs": [
    {
     "data": {
      "text/plain": [
       "378"
      ]
     },
     "execution_count": 76,
     "metadata": {},
     "output_type": "execute_result"
    }
   ],
   "source": [
    "len(combined_stopwords)"
   ]
  },
  {
   "cell_type": "code",
   "execution_count": 77,
   "id": "b6627a97",
   "metadata": {},
   "outputs": [],
   "source": [
    "#import spacy\n",
    "#loading the english language small model of spacy\n",
    "#en = spacy.load('en_core_web_sm')\n",
    "#stopwords = en.Defaults.stop_words\n",
    "\n",
    "#print(len(stopwords))\n",
    "#print(stopwords)"
   ]
  },
  {
   "cell_type": "code",
   "execution_count": 78,
   "id": "39d860d8",
   "metadata": {},
   "outputs": [],
   "source": [
    "#import  spacy\n",
    "#from spacy.lang.en.stop_words import STOP_WORDS as stopwords"
   ]
  },
  {
   "cell_type": "code",
   "execution_count": 79,
   "id": "e0723b6f",
   "metadata": {},
   "outputs": [],
   "source": [
    "#import spacy\n",
    "#from string import punctuation\n",
    "#from spacy.lang.en import stop_words\n",
    "\n",
    "\n",
    "#nlp = spacy.load('en_core_web_sm')\n",
    "\n",
    "#stop_words = stop_words.STOP_WORDS\n",
    "#print(stop_words)\n",
    "# as an alternative solution\n",
    "# stop_words = nlp.Defaults.stop_words"
   ]
  },
  {
   "cell_type": "code",
   "execution_count": 80,
   "id": "4b10f8a6",
   "metadata": {},
   "outputs": [],
   "source": [
    "x = \"I am playing cricket and i can run\""
   ]
  },
  {
   "cell_type": "code",
   "execution_count": 81,
   "id": "9dfd5f8c",
   "metadata": {},
   "outputs": [
    {
     "data": {
      "text/plain": [
       "'I playing cricket run'"
      ]
     },
     "execution_count": 81,
     "metadata": {},
     "output_type": "execute_result"
    }
   ],
   "source": [
    "' '.join([t for t in x.split() if t not in combined_stopwords ])"
   ]
  },
  {
   "cell_type": "code",
   "execution_count": 82,
   "id": "f63db407",
   "metadata": {},
   "outputs": [],
   "source": [
    "df[\"review_without_stopwords\"] = df[\"review\"].apply(lambda x: ' '.join([t for t in x.split() if t not in combined_stopwords ]))"
   ]
  },
  {
   "cell_type": "code",
   "execution_count": 83,
   "id": "4b94d07b",
   "metadata": {},
   "outputs": [
    {
     "data": {
      "text/html": [
       "<div>\n",
       "<style scoped>\n",
       "    .dataframe tbody tr th:only-of-type {\n",
       "        vertical-align: middle;\n",
       "    }\n",
       "\n",
       "    .dataframe tbody tr th {\n",
       "        vertical-align: top;\n",
       "    }\n",
       "\n",
       "    .dataframe thead th {\n",
       "        text-align: right;\n",
       "    }\n",
       "</style>\n",
       "<table border=\"1\" class=\"dataframe\">\n",
       "  <thead>\n",
       "    <tr style=\"text-align: right;\">\n",
       "      <th></th>\n",
       "      <th>review</th>\n",
       "      <th>sentiment</th>\n",
       "      <th>review_without_stopwords</th>\n",
       "    </tr>\n",
       "  </thead>\n",
       "  <tbody>\n",
       "    <tr>\n",
       "      <th>0</th>\n",
       "      <td>one of the other reviewers has mentioned that ...</td>\n",
       "      <td>positive</td>\n",
       "      <td>reviewers mentioned watching 1 oz episode shal...</td>\n",
       "    </tr>\n",
       "    <tr>\n",
       "      <th>1</th>\n",
       "      <td>a wonderful little production br br the filmin...</td>\n",
       "      <td>positive</td>\n",
       "      <td>wonderful little production br br filming tech...</td>\n",
       "    </tr>\n",
       "    <tr>\n",
       "      <th>2</th>\n",
       "      <td>i thought this was a wonderful way to spend ti...</td>\n",
       "      <td>positive</td>\n",
       "      <td>thought wonderful way spend time hot summer we...</td>\n",
       "    </tr>\n",
       "    <tr>\n",
       "      <th>3</th>\n",
       "      <td>basically there has there is a family where a ...</td>\n",
       "      <td>negative</td>\n",
       "      <td>basically family little boy jake thinks zombie...</td>\n",
       "    </tr>\n",
       "    <tr>\n",
       "      <th>4</th>\n",
       "      <td>petter matteis love in the time of money is a ...</td>\n",
       "      <td>positive</td>\n",
       "      <td>petter matteis love time money visually stunni...</td>\n",
       "    </tr>\n",
       "  </tbody>\n",
       "</table>\n",
       "</div>"
      ],
      "text/plain": [
       "                                              review sentiment  \\\n",
       "0  one of the other reviewers has mentioned that ...  positive   \n",
       "1  a wonderful little production br br the filmin...  positive   \n",
       "2  i thought this was a wonderful way to spend ti...  positive   \n",
       "3  basically there has there is a family where a ...  negative   \n",
       "4  petter matteis love in the time of money is a ...  positive   \n",
       "\n",
       "                            review_without_stopwords  \n",
       "0  reviewers mentioned watching 1 oz episode shal...  \n",
       "1  wonderful little production br br filming tech...  \n",
       "2  thought wonderful way spend time hot summer we...  \n",
       "3  basically family little boy jake thinks zombie...  \n",
       "4  petter matteis love time money visually stunni...  "
      ]
     },
     "execution_count": 83,
     "metadata": {},
     "output_type": "execute_result"
    }
   ],
   "source": [
    "df.head()"
   ]
  },
  {
   "cell_type": "code",
   "execution_count": 84,
   "id": "fc89c5bd",
   "metadata": {},
   "outputs": [
    {
     "data": {
      "text/plain": [
       "'reviewers mentioned watching 1 oz episode shall hooked right exactly happened mebr br thing struck oz brutality unflinching scenes violence set right word trust faint hearted timid pulls punches regards drugs sex violence hardcore classic use wordbr br called oz nickname given oswald maximum security state penitentary focuses mainly emerald city experimental section prison cells glass fronts face inwards privacy high agenda em city home manyaryans muslims gangstas latinos christians italians irish moreso scuffles death stares dodgy dealings shady agreements far awaybr br say main appeal fact goes shows dare forget pretty pictures painted mainstream audiences forget charm forget romanceoz mess episode saw struck nasty surreal say ready watched developed taste oz got accustomed high levels graphic violence violence injustice crooked guards shall sold nickel inmates shall kill order away mannered middle class inmates turned prison bitches lack street skills prison experience watching oz comfortable uncomfortable viewingthats touch darker'"
      ]
     },
     "execution_count": 84,
     "metadata": {},
     "output_type": "execute_result"
    }
   ],
   "source": [
    "df[\"review_without_stopwords\"][0]"
   ]
  },
  {
   "cell_type": "markdown",
   "id": "54f45a11",
   "metadata": {},
   "source": [
    "**10. Text Normalization - Lemmitization**"
   ]
  },
  {
   "cell_type": "code",
   "execution_count": 85,
   "id": "542fc34d",
   "metadata": {},
   "outputs": [],
   "source": [
    "# Text Normalization: Stemming or Lemmatization (prefer)\n",
    "#from nltk.stem import PorterStemmer\n",
    "from nltk.stem import WordNetLemmatizer\n",
    "#lemmatizer = WordNetLemmatizer()\n"
   ]
  },
  {
   "cell_type": "code",
   "execution_count": 86,
   "id": "c4d2e7f8",
   "metadata": {},
   "outputs": [],
   "source": [
    "#stemmer = WordNetLemmatizer()\n",
    "#def stemming(data):\n",
    "    #text = [stemmer.stem(word) for word in data]\n",
    "    #return ''.join(text)"
   ]
  },
  {
   "cell_type": "code",
   "execution_count": 87,
   "id": "ed032293",
   "metadata": {},
   "outputs": [],
   "source": [
    "#data = \"I was doing homework\""
   ]
  },
  {
   "cell_type": "code",
   "execution_count": 88,
   "id": "bce178e0",
   "metadata": {},
   "outputs": [],
   "source": [
    "#df[\"review_without_stopword_done_Lemmi\"] = df['review_without_stopwords'].apply(lambda x: stemming(x))"
   ]
  },
  {
   "cell_type": "code",
   "execution_count": 89,
   "id": "708a62c1",
   "metadata": {},
   "outputs": [
    {
     "name": "stdout",
     "output_type": "stream",
     "text": [
      "                                                  review sentiment  \\\n",
      "0      one of the other reviewers has mentioned that ...  positive   \n",
      "1      a wonderful little production br br the filmin...  positive   \n",
      "2      i thought this was a wonderful way to spend ti...  positive   \n",
      "3      basically there has there is a family where a ...  negative   \n",
      "4      petter matteis love in the time of money is a ...  positive   \n",
      "...                                                  ...       ...   \n",
      "49995  i thought this movie did a down right good job...  positive   \n",
      "49996  bad plot bad dialogue bad acting idiotic direc...  negative   \n",
      "49997  i am a catholic taught in parochial elementary...  negative   \n",
      "49998  i am going to have to disagree with the previo...  negative   \n",
      "49999  no one expects the star trek movies to be high...  negative   \n",
      "\n",
      "                                review_without_stopwords  \n",
      "0      reviewer mentioned watching 1 oz episode shall...  \n",
      "1      wonderful little production br br filming tech...  \n",
      "2      thought wonderful way spend time hot summer we...  \n",
      "3      basically family little boy jake think zombie ...  \n",
      "4      petter matteis love time money visually stunni...  \n",
      "...                                                  ...  \n",
      "49995  thought movie right good job creative original...  \n",
      "49996  bad plot bad dialogue bad acting idiotic direc...  \n",
      "49997  catholic taught parochial elementary school nu...  \n",
      "49998  going disagree previous comment maltin second ...  \n",
      "49999  expects star trek movie high art fan expect mo...  \n",
      "\n",
      "[50000 rows x 3 columns]\n"
     ]
    }
   ],
   "source": [
    "# Initialize the WordNet lemmatizer\n",
    "lemmatizer = WordNetLemmatizer()\n",
    "\n",
    "\n",
    "def lemmatize_text(text):\n",
    "    words = text.split()  # Split the text into words\n",
    "    lemmatized_words = [lemmatizer.lemmatize(word) for word in words]\n",
    "    return ' '.join(lemmatized_words)\n",
    "\n",
    "\n",
    "df['review_without_stopwords'] = df['review_without_stopwords'].apply(lemmatize_text)\n",
    "\n",
    "\n",
    "print(df)"
   ]
  },
  {
   "cell_type": "code",
   "execution_count": 90,
   "id": "5456b706",
   "metadata": {},
   "outputs": [
    {
     "data": {
      "text/html": [
       "<div>\n",
       "<style scoped>\n",
       "    .dataframe tbody tr th:only-of-type {\n",
       "        vertical-align: middle;\n",
       "    }\n",
       "\n",
       "    .dataframe tbody tr th {\n",
       "        vertical-align: top;\n",
       "    }\n",
       "\n",
       "    .dataframe thead th {\n",
       "        text-align: right;\n",
       "    }\n",
       "</style>\n",
       "<table border=\"1\" class=\"dataframe\">\n",
       "  <thead>\n",
       "    <tr style=\"text-align: right;\">\n",
       "      <th></th>\n",
       "      <th>review</th>\n",
       "      <th>sentiment</th>\n",
       "      <th>review_without_stopwords</th>\n",
       "    </tr>\n",
       "  </thead>\n",
       "  <tbody>\n",
       "    <tr>\n",
       "      <th>0</th>\n",
       "      <td>one of the other reviewers has mentioned that ...</td>\n",
       "      <td>positive</td>\n",
       "      <td>reviewer mentioned watching 1 oz episode shall...</td>\n",
       "    </tr>\n",
       "    <tr>\n",
       "      <th>1</th>\n",
       "      <td>a wonderful little production br br the filmin...</td>\n",
       "      <td>positive</td>\n",
       "      <td>wonderful little production br br filming tech...</td>\n",
       "    </tr>\n",
       "    <tr>\n",
       "      <th>2</th>\n",
       "      <td>i thought this was a wonderful way to spend ti...</td>\n",
       "      <td>positive</td>\n",
       "      <td>thought wonderful way spend time hot summer we...</td>\n",
       "    </tr>\n",
       "    <tr>\n",
       "      <th>3</th>\n",
       "      <td>basically there has there is a family where a ...</td>\n",
       "      <td>negative</td>\n",
       "      <td>basically family little boy jake think zombie ...</td>\n",
       "    </tr>\n",
       "    <tr>\n",
       "      <th>4</th>\n",
       "      <td>petter matteis love in the time of money is a ...</td>\n",
       "      <td>positive</td>\n",
       "      <td>petter matteis love time money visually stunni...</td>\n",
       "    </tr>\n",
       "  </tbody>\n",
       "</table>\n",
       "</div>"
      ],
      "text/plain": [
       "                                              review sentiment  \\\n",
       "0  one of the other reviewers has mentioned that ...  positive   \n",
       "1  a wonderful little production br br the filmin...  positive   \n",
       "2  i thought this was a wonderful way to spend ti...  positive   \n",
       "3  basically there has there is a family where a ...  negative   \n",
       "4  petter matteis love in the time of money is a ...  positive   \n",
       "\n",
       "                            review_without_stopwords  \n",
       "0  reviewer mentioned watching 1 oz episode shall...  \n",
       "1  wonderful little production br br filming tech...  \n",
       "2  thought wonderful way spend time hot summer we...  \n",
       "3  basically family little boy jake think zombie ...  \n",
       "4  petter matteis love time money visually stunni...  "
      ]
     },
     "execution_count": 90,
     "metadata": {},
     "output_type": "execute_result"
    }
   ],
   "source": [
    "df.head()"
   ]
  },
  {
   "cell_type": "code",
   "execution_count": 91,
   "id": "4511cf15",
   "metadata": {},
   "outputs": [
    {
     "data": {
      "text/plain": [
       "'reviewer mentioned watching 1 oz episode shall hooked right exactly happened mebr br thing struck oz brutality unflinching scene violence set right word trust faint hearted timid pull punch regard drug sex violence hardcore classic use wordbr br called oz nickname given oswald maximum security state penitentary focus mainly emerald city experimental section prison cell glass front face inwards privacy high agenda em city home manyaryans muslim gangsta latino christian italian irish moreso scuffle death stare dodgy dealing shady agreement far awaybr br say main appeal fact go show dare forget pretty picture painted mainstream audience forget charm forget romanceoz mess episode saw struck nasty surreal say ready watched developed taste oz got accustomed high level graphic violence violence injustice crooked guard shall sold nickel inmate shall kill order away mannered middle class inmate turned prison bitch lack street skill prison experience watching oz comfortable uncomfortable viewingthats touch darker'"
      ]
     },
     "execution_count": 91,
     "metadata": {},
     "output_type": "execute_result"
    }
   ],
   "source": [
    "df[\"review_without_stopwords\"][0]"
   ]
  },
  {
   "cell_type": "code",
   "execution_count": 92,
   "id": "9b99a776",
   "metadata": {},
   "outputs": [
    {
     "data": {
      "text/plain": [
       "'wonderful little production br br filming technique unassuming oldtimebbc fashion give comforting discomforting sense realism entire piece br br actor extremely chosen michael sheen got polari voice pat truly seamless editing guided reference williams diary entry worth watching terrificly written performed piece masterful production great master comedy life br br realism really come home little thing fantasy guard use traditional dream technique remains solid disappears play knowledge sens particularly scene concerning orton halliwell set particularly flat halliwells mural decorating surface terribly'"
      ]
     },
     "execution_count": 92,
     "metadata": {},
     "output_type": "execute_result"
    }
   ],
   "source": [
    "df[\"review_without_stopwords\"][1]"
   ]
  },
  {
   "cell_type": "code",
   "execution_count": 93,
   "id": "9cb127ec",
   "metadata": {},
   "outputs": [
    {
     "data": {
      "text/plain": [
       "'thought wonderful way spend time hot summer weekend sitting air conditioned theater watching lighthearted comedy plot simplistic dialogue witty character likable bread suspected serial killer disappointed realize match point 2 risk addiction thought proof woody allen fully control style grown lovebr br laughed woodys comedy year dare say decade impressed scarlet johanson managed tone sexy image jumped right average spirited young womanbr br crown jewel career wittier devil wear prada interesting superman great comedy friend'"
      ]
     },
     "execution_count": 93,
     "metadata": {},
     "output_type": "execute_result"
    }
   ],
   "source": [
    "df[\"review_without_stopwords\"][2]"
   ]
  },
  {
   "cell_type": "code",
   "execution_count": 94,
   "id": "b6455cc1",
   "metadata": {},
   "outputs": [
    {
     "data": {
      "text/plain": [
       "'basically family little boy jake think zombie closet parent fighting timebr br movie slower soap opera suddenly jake decides rambo kill zombiebr br ok going make film decide thriller drama drama movie watchable parent divorcing arguing like real life jake closet totally ruin film expected boogeyman similar movie instead watched drama meaningless thriller spotsbr br 3 10 playing parent descent dialog shot jake ignore'"
      ]
     },
     "execution_count": 94,
     "metadata": {},
     "output_type": "execute_result"
    }
   ],
   "source": [
    "df[\"review_without_stopwords\"][3]"
   ]
  },
  {
   "cell_type": "code",
   "execution_count": 95,
   "id": "d99f6a47",
   "metadata": {},
   "outputs": [
    {
     "data": {
      "text/plain": [
       "'petter matteis love time money visually stunning film watch mr mattei offer vivid portrait human relation movie telling money power success people different situation encounter br br variation arthur schnitzlers play theme director transfer action present time new york different character meet connect connected way person know previous point contact stylishly film sophisticated luxurious look taken people live world live habitatbr br thing get soul picture different stage loneliness inhabits big city exactly best place human relation fulfillment discerns case people encounterbr br acting good mr matteis direction steve buscemi rosario dawson carol kane michael imperioli adrian grenier rest talented cast make character come alivebr br wish mr mattei good luck await anxiously work'"
      ]
     },
     "execution_count": 95,
     "metadata": {},
     "output_type": "execute_result"
    }
   ],
   "source": [
    "df[\"review_without_stopwords\"][4]"
   ]
  },
  {
   "cell_type": "code",
   "execution_count": 96,
   "id": "cffdd8aa",
   "metadata": {},
   "outputs": [
    {
     "data": {
      "text/plain": [
       "'probably alltime favorite movie story selflessness sacrifice dedication noble cause preachy boring get old despite seen 15 time 25 year paul lukas performance brings tear eye bette davis truly sympathetic role delight kid grandma say like dressedup midget child make fun watch mother slow awakening happening world roof believable startling dozen thumb movie'"
      ]
     },
     "execution_count": 96,
     "metadata": {},
     "output_type": "execute_result"
    }
   ],
   "source": [
    "df[\"review_without_stopwords\"][5]"
   ]
  },
  {
   "cell_type": "code",
   "execution_count": 97,
   "id": "919ff06d",
   "metadata": {},
   "outputs": [
    {
     "data": {
      "text/plain": [
       "'short film inspired soontobe length feature spatula madness hilarious piece contends similar cartoon yielding multiple writer short film star edward spatula fired job join fight evil spoon premise allows funny content near beginning barely present remainder feature film 15minute running time absorbed oddball comedy small musical number unfortunately lie plot set really time surely follows plot better highbudget hollywood film film worth watching time expect deep story'"
      ]
     },
     "execution_count": 97,
     "metadata": {},
     "output_type": "execute_result"
    }
   ],
   "source": [
    "df[\"review_without_stopwords\"][100]"
   ]
  },
  {
   "cell_type": "markdown",
   "id": "d7e51683",
   "metadata": {},
   "source": [
    "**Majorly Numeric digits are remaining**"
   ]
  },
  {
   "cell_type": "markdown",
   "id": "65d38f30",
   "metadata": {},
   "source": [
    "**11. Removing Numeric Digit from Text**"
   ]
  },
  {
   "cell_type": "code",
   "execution_count": 98,
   "id": "5264a42c",
   "metadata": {},
   "outputs": [
    {
     "name": "stdout",
     "output_type": "stream",
     "text": [
      "                                                  review sentiment  \\\n",
      "0      one of the other reviewers has mentioned that ...  positive   \n",
      "1      a wonderful little production br br the filmin...  positive   \n",
      "2      i thought this was a wonderful way to spend ti...  positive   \n",
      "3      basically there has there is a family where a ...  negative   \n",
      "4      petter matteis love in the time of money is a ...  positive   \n",
      "...                                                  ...       ...   \n",
      "49995  i thought this movie did a down right good job...  positive   \n",
      "49996  bad plot bad dialogue bad acting idiotic direc...  negative   \n",
      "49997  i am a catholic taught in parochial elementary...  negative   \n",
      "49998  i am going to have to disagree with the previo...  negative   \n",
      "49999  no one expects the star trek movies to be high...  negative   \n",
      "\n",
      "                                review_without_stopwords  \n",
      "0      reviewer mentioned watching  oz episode shall ...  \n",
      "1      wonderful little production br br filming tech...  \n",
      "2      thought wonderful way spend time hot summer we...  \n",
      "3      basically family little boy jake think zombie ...  \n",
      "4      petter matteis love time money visually stunni...  \n",
      "...                                                  ...  \n",
      "49995  thought movie right good job creative original...  \n",
      "49996  bad plot bad dialogue bad acting idiotic direc...  \n",
      "49997  catholic taught parochial elementary school nu...  \n",
      "49998  going disagree previous comment maltin second ...  \n",
      "49999  expects star trek movie high art fan expect mo...  \n",
      "\n",
      "[50000 rows x 3 columns]\n"
     ]
    }
   ],
   "source": [
    "# Define a function to remove numeric digits from a text\n",
    "def remove_digits(text):\n",
    "    return re.sub(r'\\d+', '', text)\n",
    "\n",
    "\n",
    "df['review_without_stopwords'] = df['review_without_stopwords'].apply(remove_digits)\n",
    "\n",
    "\n",
    "print(df)"
   ]
  },
  {
   "cell_type": "code",
   "execution_count": 99,
   "id": "54f60884",
   "metadata": {},
   "outputs": [
    {
     "data": {
      "text/html": [
       "<div>\n",
       "<style scoped>\n",
       "    .dataframe tbody tr th:only-of-type {\n",
       "        vertical-align: middle;\n",
       "    }\n",
       "\n",
       "    .dataframe tbody tr th {\n",
       "        vertical-align: top;\n",
       "    }\n",
       "\n",
       "    .dataframe thead th {\n",
       "        text-align: right;\n",
       "    }\n",
       "</style>\n",
       "<table border=\"1\" class=\"dataframe\">\n",
       "  <thead>\n",
       "    <tr style=\"text-align: right;\">\n",
       "      <th></th>\n",
       "      <th>review</th>\n",
       "      <th>sentiment</th>\n",
       "      <th>review_without_stopwords</th>\n",
       "    </tr>\n",
       "  </thead>\n",
       "  <tbody>\n",
       "    <tr>\n",
       "      <th>0</th>\n",
       "      <td>one of the other reviewers has mentioned that ...</td>\n",
       "      <td>positive</td>\n",
       "      <td>reviewer mentioned watching  oz episode shall ...</td>\n",
       "    </tr>\n",
       "    <tr>\n",
       "      <th>1</th>\n",
       "      <td>a wonderful little production br br the filmin...</td>\n",
       "      <td>positive</td>\n",
       "      <td>wonderful little production br br filming tech...</td>\n",
       "    </tr>\n",
       "    <tr>\n",
       "      <th>2</th>\n",
       "      <td>i thought this was a wonderful way to spend ti...</td>\n",
       "      <td>positive</td>\n",
       "      <td>thought wonderful way spend time hot summer we...</td>\n",
       "    </tr>\n",
       "  </tbody>\n",
       "</table>\n",
       "</div>"
      ],
      "text/plain": [
       "                                              review sentiment  \\\n",
       "0  one of the other reviewers has mentioned that ...  positive   \n",
       "1  a wonderful little production br br the filmin...  positive   \n",
       "2  i thought this was a wonderful way to spend ti...  positive   \n",
       "\n",
       "                            review_without_stopwords  \n",
       "0  reviewer mentioned watching  oz episode shall ...  \n",
       "1  wonderful little production br br filming tech...  \n",
       "2  thought wonderful way spend time hot summer we...  "
      ]
     },
     "execution_count": 99,
     "metadata": {},
     "output_type": "execute_result"
    }
   ],
   "source": [
    "df.head(3)"
   ]
  },
  {
   "cell_type": "code",
   "execution_count": 100,
   "id": "18002eb2",
   "metadata": {},
   "outputs": [
    {
     "data": {
      "text/plain": [
       "'probably alltime favorite movie story selflessness sacrifice dedication noble cause preachy boring get old despite seen  time  year paul lukas performance brings tear eye bette davis truly sympathetic role delight kid grandma say like dressedup midget child make fun watch mother slow awakening happening world roof believable startling dozen thumb movie'"
      ]
     },
     "execution_count": 100,
     "metadata": {},
     "output_type": "execute_result"
    }
   ],
   "source": [
    "df[\"review_without_stopwords\"][5]"
   ]
  },
  {
   "cell_type": "code",
   "execution_count": 101,
   "id": "b8de5b31",
   "metadata": {},
   "outputs": [],
   "source": [
    "df.sentiment.replace(\"positive\", 1, inplace=True)\n",
    "df.sentiment.replace(\"negative\", 0, inplace=True)"
   ]
  },
  {
   "cell_type": "code",
   "execution_count": 102,
   "id": "85acb2da",
   "metadata": {},
   "outputs": [
    {
     "data": {
      "text/html": [
       "<div>\n",
       "<style scoped>\n",
       "    .dataframe tbody tr th:only-of-type {\n",
       "        vertical-align: middle;\n",
       "    }\n",
       "\n",
       "    .dataframe tbody tr th {\n",
       "        vertical-align: top;\n",
       "    }\n",
       "\n",
       "    .dataframe thead th {\n",
       "        text-align: right;\n",
       "    }\n",
       "</style>\n",
       "<table border=\"1\" class=\"dataframe\">\n",
       "  <thead>\n",
       "    <tr style=\"text-align: right;\">\n",
       "      <th></th>\n",
       "      <th>review</th>\n",
       "      <th>sentiment</th>\n",
       "      <th>review_without_stopwords</th>\n",
       "    </tr>\n",
       "  </thead>\n",
       "  <tbody>\n",
       "    <tr>\n",
       "      <th>0</th>\n",
       "      <td>one of the other reviewers has mentioned that ...</td>\n",
       "      <td>1</td>\n",
       "      <td>reviewer mentioned watching  oz episode shall ...</td>\n",
       "    </tr>\n",
       "    <tr>\n",
       "      <th>1</th>\n",
       "      <td>a wonderful little production br br the filmin...</td>\n",
       "      <td>1</td>\n",
       "      <td>wonderful little production br br filming tech...</td>\n",
       "    </tr>\n",
       "    <tr>\n",
       "      <th>2</th>\n",
       "      <td>i thought this was a wonderful way to spend ti...</td>\n",
       "      <td>1</td>\n",
       "      <td>thought wonderful way spend time hot summer we...</td>\n",
       "    </tr>\n",
       "    <tr>\n",
       "      <th>3</th>\n",
       "      <td>basically there has there is a family where a ...</td>\n",
       "      <td>0</td>\n",
       "      <td>basically family little boy jake think zombie ...</td>\n",
       "    </tr>\n",
       "    <tr>\n",
       "      <th>4</th>\n",
       "      <td>petter matteis love in the time of money is a ...</td>\n",
       "      <td>1</td>\n",
       "      <td>petter matteis love time money visually stunni...</td>\n",
       "    </tr>\n",
       "  </tbody>\n",
       "</table>\n",
       "</div>"
      ],
      "text/plain": [
       "                                              review  sentiment  \\\n",
       "0  one of the other reviewers has mentioned that ...          1   \n",
       "1  a wonderful little production br br the filmin...          1   \n",
       "2  i thought this was a wonderful way to spend ti...          1   \n",
       "3  basically there has there is a family where a ...          0   \n",
       "4  petter matteis love in the time of money is a ...          1   \n",
       "\n",
       "                            review_without_stopwords  \n",
       "0  reviewer mentioned watching  oz episode shall ...  \n",
       "1  wonderful little production br br filming tech...  \n",
       "2  thought wonderful way spend time hot summer we...  \n",
       "3  basically family little boy jake think zombie ...  \n",
       "4  petter matteis love time money visually stunni...  "
      ]
     },
     "execution_count": 102,
     "metadata": {},
     "output_type": "execute_result"
    }
   ],
   "source": [
    "df.head()"
   ]
  },
  {
   "cell_type": "code",
   "execution_count": 103,
   "id": "3bf5099f",
   "metadata": {},
   "outputs": [],
   "source": [
    "df.to_csv('C:/Users/Admin/Desktop/ML Deployment/3. Natural Language Processing/Projects/IMDB Kaggle/IMDBSentimentalAnalysis-main/IMDB_Clean.csv')"
   ]
  },
  {
   "cell_type": "code",
   "execution_count": 104,
   "id": "019d4a28",
   "metadata": {},
   "outputs": [],
   "source": [
    "#X = df['review_without_stopwords']\n",
    "#Y = df['sentiment']"
   ]
  },
  {
   "cell_type": "code",
   "execution_count": 105,
   "id": "de5b817d",
   "metadata": {},
   "outputs": [],
   "source": [
    "import string\n",
    "from nltk.corpus import stopwords"
   ]
  },
  {
   "cell_type": "code",
   "execution_count": 106,
   "id": "01449084",
   "metadata": {},
   "outputs": [],
   "source": [
    "from sklearn.feature_extraction.text import CountVectorizer #DTM"
   ]
  },
  {
   "cell_type": "code",
   "execution_count": 107,
   "id": "42a70b2b",
   "metadata": {},
   "outputs": [],
   "source": [
    "bag_words = CountVectorizer().fit(df['review_without_stopwords'])"
   ]
  },
  {
   "cell_type": "code",
   "execution_count": 108,
   "id": "58932879",
   "metadata": {},
   "outputs": [
    {
     "name": "stdout",
     "output_type": "stream",
     "text": [
      "164156\n"
     ]
    }
   ],
   "source": [
    "print(len(bag_words.vocabulary_))"
   ]
  },
  {
   "cell_type": "code",
   "execution_count": 109,
   "id": "dca19c43",
   "metadata": {},
   "outputs": [
    {
     "name": "stdout",
     "output_type": "stream",
     "text": [
      "CountVectorizer()\n"
     ]
    }
   ],
   "source": [
    "print(bag_words)"
   ]
  },
  {
   "cell_type": "code",
   "execution_count": 110,
   "id": "8028626e",
   "metadata": {},
   "outputs": [
    {
     "name": "stdout",
     "output_type": "stream",
     "text": [
      "  (0, 982)\t1\n",
      "  (0, 2699)\t1\n",
      "  (0, 2881)\t1\n",
      "  (0, 6882)\t1\n",
      "  (0, 9095)\t1\n",
      "  (0, 9689)\t1\n",
      "  (0, 9695)\t1\n",
      "  (0, 14640)\t1\n",
      "  (0, 17397)\t3\n",
      "  (0, 18775)\t1\n",
      "  (0, 20541)\t1\n",
      "  (0, 22823)\t1\n",
      "  (0, 23856)\t1\n",
      "  (0, 25125)\t1\n",
      "  (0, 25742)\t2\n",
      "  (0, 25976)\t1\n",
      "  (0, 25991)\t1\n",
      "  (0, 27842)\t1\n",
      "  (0, 32193)\t1\n",
      "  (0, 33867)\t1\n",
      "  (0, 33914)\t1\n",
      "  (0, 34542)\t1\n",
      "  (0, 34591)\t1\n",
      "  (0, 36836)\t1\n",
      "  (0, 39547)\t1\n",
      "  :\t:\n",
      "  (49999, 78046)\t1\n",
      "  (49999, 78524)\t1\n",
      "  (49999, 81233)\t1\n",
      "  (49999, 88861)\t1\n",
      "  (49999, 94492)\t10\n",
      "  (49999, 95327)\t1\n",
      "  (49999, 97443)\t1\n",
      "  (49999, 110194)\t1\n",
      "  (49999, 119479)\t1\n",
      "  (49999, 119497)\t1\n",
      "  (49999, 124973)\t1\n",
      "  (49999, 125072)\t1\n",
      "  (49999, 125451)\t1\n",
      "  (49999, 129306)\t1\n",
      "  (49999, 136001)\t1\n",
      "  (49999, 136935)\t1\n",
      "  (49999, 148873)\t1\n",
      "  (49999, 149494)\t1\n",
      "  (49999, 152228)\t1\n",
      "  (49999, 157420)\t1\n",
      "  (49999, 157466)\t1\n",
      "  (49999, 157687)\t1\n",
      "  (49999, 161456)\t1\n",
      "  (49999, 161484)\t2\n",
      "  (49999, 163024)\t1\n"
     ]
    }
   ],
   "source": [
    "message_bagwords = bag_words.transform(df['review_without_stopwords'])\n",
    "print(message_bagwords)"
   ]
  },
  {
   "cell_type": "code",
   "execution_count": 111,
   "id": "07850a44",
   "metadata": {},
   "outputs": [
    {
     "data": {
      "text/plain": [
       "(50000, 164156)"
      ]
     },
     "execution_count": 111,
     "metadata": {},
     "output_type": "execute_result"
    }
   ],
   "source": [
    "message_bagwords.shape"
   ]
  },
  {
   "cell_type": "code",
   "execution_count": 112,
   "id": "7d4ae032",
   "metadata": {},
   "outputs": [],
   "source": [
    "from sklearn.feature_extraction.text import TfidfTransformer\n",
    "tfidf_transformer = TfidfTransformer().fit(message_bagwords)"
   ]
  },
  {
   "cell_type": "code",
   "execution_count": 113,
   "id": "0324a9e1",
   "metadata": {},
   "outputs": [],
   "source": [
    "message_tfidf = tfidf_transformer.transform(message_bagwords)"
   ]
  },
  {
   "cell_type": "code",
   "execution_count": 114,
   "id": "2d17842f",
   "metadata": {},
   "outputs": [
    {
     "name": "stdout",
     "output_type": "stream",
     "text": [
      "(50000, 164156)\n",
      "  (0, 161088)\t0.10899258881897521\n",
      "  (0, 161085)\t0.04551081346500207\n",
      "  (0, 157466)\t0.06985569436237599\n",
      "  (0, 157442)\t0.04258394190737944\n",
      "  (0, 155760)\t0.21336689675796464\n",
      "  (0, 155502)\t0.1340438176396374\n",
      "  (0, 153809)\t0.04543741423328163\n",
      "  (0, 152180)\t0.1006421792120878\n",
      "  (0, 151472)\t0.07563810150652528\n",
      "  (0, 149984)\t0.05294742044469458\n",
      "  (0, 149578)\t0.06575901497006334\n",
      "  (0, 147846)\t0.05700955683265527\n",
      "  (0, 146540)\t0.0960111351371662\n",
      "  (0, 145091)\t0.029345817072313356\n",
      "  (0, 142900)\t0.05995977491169347\n",
      "  (0, 141016)\t0.07048864305394385\n",
      "  (0, 138989)\t0.15080833998125545\n",
      "  (0, 138693)\t0.05520869304505251\n",
      "  (0, 137187)\t0.05452636133867852\n",
      "  (0, 136976)\t0.07963505511443564\n",
      "  (0, 134129)\t0.0742559592449254\n",
      "  (0, 132241)\t0.06270600265583329\n",
      "  (0, 130595)\t0.04302341715280118\n",
      "  (0, 129306)\t0.12141256211123214\n",
      "  (0, 129192)\t0.09104131981988478\n",
      "  :\t:\n",
      "  (49999, 88861)\t0.20363179310432325\n",
      "  (49999, 81233)\t0.09706283949525045\n",
      "  (49999, 78524)\t0.11529309779705853\n",
      "  (49999, 78046)\t0.18708101996276194\n",
      "  (49999, 72145)\t0.18961956011165804\n",
      "  (49999, 70565)\t0.11425819312787303\n",
      "  (49999, 70117)\t0.17303878751632765\n",
      "  (49999, 65471)\t0.09912735617547654\n",
      "  (49999, 63136)\t0.1296830009602888\n",
      "  (49999, 59250)\t0.1612615089741511\n",
      "  (49999, 59014)\t0.05301588018178841\n",
      "  (49999, 49283)\t0.17699185980770704\n",
      "  (49999, 49028)\t0.1733884606698442\n",
      "  (49999, 47640)\t0.18664437883592364\n",
      "  (49999, 47603)\t0.11113222130230749\n",
      "  (49999, 45562)\t0.10611773065119436\n",
      "  (49999, 31972)\t0.20576369158015012\n",
      "  (49999, 23551)\t0.05657693179792537\n",
      "  (49999, 23428)\t0.13244957112862335\n",
      "  (49999, 23326)\t0.11128522035714332\n",
      "  (49999, 20230)\t0.1503233495762857\n",
      "  (49999, 17397)\t0.04095779544982638\n",
      "  (49999, 13621)\t0.0708425897819309\n",
      "  (49999, 9594)\t0.12194430308605275\n",
      "  (49999, 7885)\t0.11062848028747668\n"
     ]
    }
   ],
   "source": [
    "print(message_tfidf.shape)\n",
    "print(message_tfidf)"
   ]
  },
  {
   "cell_type": "code",
   "execution_count": 115,
   "id": "a642dc5e",
   "metadata": {},
   "outputs": [],
   "source": [
    "X = message_tfidf\n",
    "y = df[\"sentiment\"]"
   ]
  },
  {
   "cell_type": "code",
   "execution_count": 116,
   "id": "c5b90daf",
   "metadata": {},
   "outputs": [
    {
     "name": "stdout",
     "output_type": "stream",
     "text": [
      "  (0, 161088)\t0.10899258881897521\n",
      "  (0, 161085)\t0.04551081346500207\n",
      "  (0, 157466)\t0.06985569436237599\n",
      "  (0, 157442)\t0.04258394190737944\n",
      "  (0, 155760)\t0.21336689675796464\n",
      "  (0, 155502)\t0.1340438176396374\n",
      "  (0, 153809)\t0.04543741423328163\n",
      "  (0, 152180)\t0.1006421792120878\n",
      "  (0, 151472)\t0.07563810150652528\n",
      "  (0, 149984)\t0.05294742044469458\n",
      "  (0, 149578)\t0.06575901497006334\n",
      "  (0, 147846)\t0.05700955683265527\n",
      "  (0, 146540)\t0.0960111351371662\n",
      "  (0, 145091)\t0.029345817072313356\n",
      "  (0, 142900)\t0.05995977491169347\n",
      "  (0, 141016)\t0.07048864305394385\n",
      "  (0, 138989)\t0.15080833998125545\n",
      "  (0, 138693)\t0.05520869304505251\n",
      "  (0, 137187)\t0.05452636133867852\n",
      "  (0, 136976)\t0.07963505511443564\n",
      "  (0, 134129)\t0.0742559592449254\n",
      "  (0, 132241)\t0.06270600265583329\n",
      "  (0, 130595)\t0.04302341715280118\n",
      "  (0, 129306)\t0.12141256211123214\n",
      "  (0, 129192)\t0.09104131981988478\n",
      "  :\t:\n",
      "  (49999, 88861)\t0.20363179310432325\n",
      "  (49999, 81233)\t0.09706283949525045\n",
      "  (49999, 78524)\t0.11529309779705853\n",
      "  (49999, 78046)\t0.18708101996276194\n",
      "  (49999, 72145)\t0.18961956011165804\n",
      "  (49999, 70565)\t0.11425819312787303\n",
      "  (49999, 70117)\t0.17303878751632765\n",
      "  (49999, 65471)\t0.09912735617547654\n",
      "  (49999, 63136)\t0.1296830009602888\n",
      "  (49999, 59250)\t0.1612615089741511\n",
      "  (49999, 59014)\t0.05301588018178841\n",
      "  (49999, 49283)\t0.17699185980770704\n",
      "  (49999, 49028)\t0.1733884606698442\n",
      "  (49999, 47640)\t0.18664437883592364\n",
      "  (49999, 47603)\t0.11113222130230749\n",
      "  (49999, 45562)\t0.10611773065119436\n",
      "  (49999, 31972)\t0.20576369158015012\n",
      "  (49999, 23551)\t0.05657693179792537\n",
      "  (49999, 23428)\t0.13244957112862335\n",
      "  (49999, 23326)\t0.11128522035714332\n",
      "  (49999, 20230)\t0.1503233495762857\n",
      "  (49999, 17397)\t0.04095779544982638\n",
      "  (49999, 13621)\t0.0708425897819309\n",
      "  (49999, 9594)\t0.12194430308605275\n",
      "  (49999, 7885)\t0.11062848028747668\n"
     ]
    }
   ],
   "source": [
    "print(X)"
   ]
  },
  {
   "cell_type": "code",
   "execution_count": 117,
   "id": "59600508",
   "metadata": {},
   "outputs": [
    {
     "name": "stdout",
     "output_type": "stream",
     "text": [
      "0        1\n",
      "1        1\n",
      "2        1\n",
      "3        0\n",
      "4        1\n",
      "        ..\n",
      "49995    1\n",
      "49996    0\n",
      "49997    0\n",
      "49998    0\n",
      "49999    0\n",
      "Name: sentiment, Length: 50000, dtype: int64\n"
     ]
    }
   ],
   "source": [
    "print(y)"
   ]
  },
  {
   "cell_type": "code",
   "execution_count": 118,
   "id": "9c3ffbe4",
   "metadata": {},
   "outputs": [
    {
     "name": "stdout",
     "output_type": "stream",
     "text": [
      "(35000, 164156)\n",
      "(35000,)\n",
      "(15000, 164156)\n",
      "(15000,)\n"
     ]
    }
   ],
   "source": [
    "from sklearn.model_selection import train_test_split\n",
    "x_train, x_test, y_train, y_test = train_test_split(X, y, test_size=0.3, random_state=42)\n",
    "print(x_train.shape)\n",
    "print(y_train.shape)\n",
    "print(x_test.shape)\n",
    "print(y_test.shape)"
   ]
  },
  {
   "cell_type": "code",
   "execution_count": 119,
   "id": "231f7844",
   "metadata": {},
   "outputs": [],
   "source": [
    "from sklearn.naive_bayes import MultinomialNB\n",
    "scam_detect = MultinomialNB().fit(x_train, y_train)"
   ]
  },
  {
   "cell_type": "code",
   "execution_count": 120,
   "id": "044be8d4",
   "metadata": {},
   "outputs": [],
   "source": [
    "predicted = scam_detect.predict(x_test)"
   ]
  },
  {
   "cell_type": "code",
   "execution_count": 121,
   "id": "db8341ba",
   "metadata": {},
   "outputs": [
    {
     "data": {
      "text/plain": [
       "array([1, 1, 0, ..., 0, 1, 1], dtype=int64)"
      ]
     },
     "execution_count": 121,
     "metadata": {},
     "output_type": "execute_result"
    }
   ],
   "source": [
    "predicted"
   ]
  },
  {
   "cell_type": "code",
   "execution_count": 122,
   "id": "1d9fab61",
   "metadata": {},
   "outputs": [
    {
     "name": "stdout",
     "output_type": "stream",
     "text": [
      "Train Score:  0.9183142857142857\n",
      "Test Score:  0.8631333333333333\n"
     ]
    }
   ],
   "source": [
    "print(\"Train Score: \", scam_detect.score(x_train, y_train))  # train score\n",
    "print(\"Test Score: \", scam_detect.score(x_test, y_test)) #test score"
   ]
  },
  {
   "cell_type": "code",
   "execution_count": 123,
   "id": "4ce65d7f",
   "metadata": {},
   "outputs": [
    {
     "name": "stdout",
     "output_type": "stream",
     "text": [
      "              precision    recall  f1-score   support\n",
      "\n",
      "           0       0.85      0.88      0.86      7411\n",
      "           1       0.88      0.85      0.86      7589\n",
      "\n",
      "    accuracy                           0.86     15000\n",
      "   macro avg       0.86      0.86      0.86     15000\n",
      "weighted avg       0.86      0.86      0.86     15000\n",
      "\n",
      "[[6506  905]\n",
      " [1148 6441]]\n"
     ]
    }
   ],
   "source": [
    "from sklearn import metrics\n",
    "print(metrics.classification_report(y_test, predicted))\n",
    "print(metrics.confusion_matrix(y_test, predicted))"
   ]
  },
  {
   "cell_type": "code",
   "execution_count": 124,
   "id": "64c4853c",
   "metadata": {},
   "outputs": [],
   "source": [
    "#from sklearn import svm\n",
    "spam_detect_svm = svm.SVC().fit(x_train, y_train)"
   ]
  },
  {
   "cell_type": "code",
   "execution_count": 126,
   "id": "44d44e3d",
   "metadata": {},
   "outputs": [],
   "source": [
    "predicted = spam_detect_svm.predict(x_test)"
   ]
  },
  {
   "cell_type": "code",
   "execution_count": 127,
   "id": "81a7e542",
   "metadata": {},
   "outputs": [
    {
     "data": {
      "text/plain": [
       "array([0, 1, 0, ..., 0, 1, 1], dtype=int64)"
      ]
     },
     "execution_count": 127,
     "metadata": {},
     "output_type": "execute_result"
    }
   ],
   "source": [
    "predicted"
   ]
  },
  {
   "cell_type": "code",
   "execution_count": 131,
   "id": "c8b0f7e1",
   "metadata": {},
   "outputs": [
    {
     "name": "stdout",
     "output_type": "stream",
     "text": [
      "Train Score:  0.9183142857142857\n",
      "Test Score:  0.8631333333333333\n"
     ]
    }
   ],
   "source": [
    "print(\"Train Score: \", scam_detect.score(x_train, y_train))  # train score\n",
    "print(\"Test Score: \", scam_detect.score(x_test, y_test)) #test score"
   ]
  },
  {
   "cell_type": "code",
   "execution_count": 130,
   "id": "3d51866c",
   "metadata": {},
   "outputs": [
    {
     "name": "stdout",
     "output_type": "stream",
     "text": [
      "Train Score:  0.9913714285714286\n",
      "Test Score:  0.8952666666666667\n"
     ]
    }
   ],
   "source": [
    "print(\"Train Score: \", spam_detect_svm.score(x_train, y_train))  # train score\n",
    "print(\"Test Score: \", spam_detect_svm.score(x_test, y_test)) #test score"
   ]
  },
  {
   "cell_type": "code",
   "execution_count": null,
   "id": "665d3467",
   "metadata": {},
   "outputs": [],
   "source": []
  },
  {
   "cell_type": "code",
   "execution_count": null,
   "id": "00fa5336",
   "metadata": {},
   "outputs": [],
   "source": []
  }
 ],
 "metadata": {
  "kernelspec": {
   "display_name": "Python 3 (ipykernel)",
   "language": "python",
   "name": "python3"
  },
  "language_info": {
   "codemirror_mode": {
    "name": "ipython",
    "version": 3
   },
   "file_extension": ".py",
   "mimetype": "text/x-python",
   "name": "python",
   "nbconvert_exporter": "python",
   "pygments_lexer": "ipython3",
   "version": "3.9.12"
  }
 },
 "nbformat": 4,
 "nbformat_minor": 5
}
